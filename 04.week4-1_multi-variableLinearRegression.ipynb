{
 "cells": [
  {
   "cell_type": "code",
   "execution_count": 2,
   "id": "938f04bc",
   "metadata": {},
   "outputs": [],
   "source": [
    "import tensorflow as tf\n",
    "import matplotlib.pyplot as plt\n",
    "import numpy as np"
   ]
  },
  {
   "cell_type": "code",
   "execution_count": 16,
   "id": "5eb36bc4",
   "metadata": {},
   "outputs": [],
   "source": [
    "x1_data = [73., 93., 89., 96., 73.]\n",
    "x2_data = [80., 88., 91., 98., 66.]\n",
    "x3_data = [75., 93., 90., 100., 70.]\n",
    "\n",
    "y_data = [152., 185., 180., 196., 142.]"
   ]
  },
  {
   "cell_type": "code",
   "execution_count": 17,
   "id": "9ef1e031",
   "metadata": {
    "lines_to_next_cell": 2
   },
   "outputs": [],
   "source": [
    "w1 = tf.Variable(tf.random.normal([1]), name='weight1')\n",
    "w2 = tf.Variable(tf.random.normal([1]), name='weight2')\n",
    "w3 = tf.Variable(tf.random.normal([1]), name='weight3')\n",
    "b = tf.Variable(tf.random.normal([1]), name='bias')"
   ]
  },
  {
   "cell_type": "code",
   "execution_count": 18,
   "id": "460295e3",
   "metadata": {},
   "outputs": [],
   "source": [
    "learning_rate = tf.Variable(0.00001)"
   ]
  },
  {
   "cell_type": "code",
   "execution_count": 34,
   "id": "b75851f4",
   "metadata": {},
   "outputs": [
    {
     "name": "stdout",
     "output_type": "stream",
     "text": [
      "epochs:     0 |cost:  0.401700 |W1:    1.3556 |W2:    0.6713 |W3:    0.0088 |b -1.473975\n",
      "epochs:    50 |cost:  0.401250 |W1:    1.3554 |W2:    0.6711 |W3:    0.0092 |b -1.474005\n",
      "epochs:   100 |cost:  0.400801 |W1:    1.3551 |W2:    0.6710 |W3:    0.0096 |b -1.474035\n",
      "epochs:   150 |cost:  0.400361 |W1:    1.3549 |W2:    0.6709 |W3:    0.0100 |b -1.474065\n",
      "epochs:   200 |cost:  0.399915 |W1:    1.3546 |W2:    0.6707 |W3:    0.0104 |b -1.474095\n",
      "epochs:   250 |cost:  0.399467 |W1:    1.3544 |W2:    0.6706 |W3:    0.0107 |b -1.474124\n",
      "epochs:   300 |cost:  0.399024 |W1:    1.3541 |W2:    0.6705 |W3:    0.0111 |b -1.474150\n",
      "epochs:   350 |cost:  0.398589 |W1:    1.3539 |W2:    0.6703 |W3:    0.0115 |b -1.474174\n",
      "epochs:   400 |cost:  0.398148 |W1:    1.3536 |W2:    0.6702 |W3:    0.0119 |b -1.474198\n",
      "epochs:   450 |cost:  0.397707 |W1:    1.3534 |W2:    0.6701 |W3:    0.0122 |b -1.474222\n",
      "epochs:   500 |cost:  0.397273 |W1:    1.3531 |W2:    0.6699 |W3:    0.0126 |b -1.474246\n",
      "epochs:   550 |cost:  0.396839 |W1:    1.3529 |W2:    0.6698 |W3:    0.0130 |b -1.474270\n",
      "epochs:   600 |cost:  0.396405 |W1:    1.3526 |W2:    0.6697 |W3:    0.0134 |b -1.474293\n",
      "epochs:   650 |cost:  0.395961 |W1:    1.3524 |W2:    0.6696 |W3:    0.0137 |b -1.474317\n",
      "epochs:   700 |cost:  0.395537 |W1:    1.3521 |W2:    0.6694 |W3:    0.0141 |b -1.474341\n",
      "epochs:   750 |cost:  0.395105 |W1:    1.3519 |W2:    0.6693 |W3:    0.0145 |b -1.474365\n",
      "epochs:   800 |cost:  0.394680 |W1:    1.3516 |W2:    0.6692 |W3:    0.0148 |b -1.474389\n",
      "epochs:   850 |cost:  0.394248 |W1:    1.3514 |W2:    0.6690 |W3:    0.0152 |b -1.474413\n",
      "epochs:   900 |cost:  0.393818 |W1:    1.3512 |W2:    0.6689 |W3:    0.0156 |b -1.474437\n",
      "epochs:   950 |cost:  0.393393 |W1:    1.3509 |W2:    0.6688 |W3:    0.0159 |b -1.474460\n",
      "epochs:  1000 |cost:  0.392963 |W1:    1.3507 |W2:    0.6686 |W3:    0.0163 |b -1.474484\n",
      "epochs:  1050 |cost:  0.392534 |W1:    1.3504 |W2:    0.6685 |W3:    0.0167 |b -1.474508\n",
      "epochs:  1100 |cost:  0.392117 |W1:    1.3502 |W2:    0.6684 |W3:    0.0171 |b -1.474532\n",
      "epochs:  1150 |cost:  0.391688 |W1:    1.3499 |W2:    0.6683 |W3:    0.0174 |b -1.474556\n",
      "epochs:  1200 |cost:  0.391266 |W1:    1.3497 |W2:    0.6681 |W3:    0.0178 |b -1.474580\n",
      "epochs:  1250 |cost:  0.390843 |W1:    1.3494 |W2:    0.6680 |W3:    0.0182 |b -1.474603\n",
      "epochs:  1300 |cost:  0.390426 |W1:    1.3492 |W2:    0.6679 |W3:    0.0185 |b -1.474627\n",
      "epochs:  1350 |cost:  0.390006 |W1:    1.3490 |W2:    0.6678 |W3:    0.0189 |b -1.474651\n",
      "epochs:  1400 |cost:  0.389581 |W1:    1.3487 |W2:    0.6676 |W3:    0.0193 |b -1.474675\n",
      "epochs:  1450 |cost:  0.389166 |W1:    1.3485 |W2:    0.6675 |W3:    0.0196 |b -1.474699\n",
      "epochs:  1500 |cost:  0.388748 |W1:    1.3482 |W2:    0.6674 |W3:    0.0200 |b -1.474723\n",
      "epochs:  1550 |cost:  0.388332 |W1:    1.3480 |W2:    0.6673 |W3:    0.0203 |b -1.474746\n",
      "epochs:  1600 |cost:  0.387924 |W1:    1.3477 |W2:    0.6671 |W3:    0.0207 |b -1.474770\n",
      "epochs:  1650 |cost:  0.387506 |W1:    1.3475 |W2:    0.6670 |W3:    0.0211 |b -1.474794\n",
      "epochs:  1700 |cost:  0.387097 |W1:    1.3473 |W2:    0.6669 |W3:    0.0214 |b -1.474818\n",
      "epochs:  1750 |cost:  0.386689 |W1:    1.3470 |W2:    0.6668 |W3:    0.0218 |b -1.474842\n",
      "epochs:  1800 |cost:  0.386275 |W1:    1.3468 |W2:    0.6666 |W3:    0.0222 |b -1.474866\n",
      "epochs:  1850 |cost:  0.385867 |W1:    1.3465 |W2:    0.6665 |W3:    0.0225 |b -1.474890\n",
      "epochs:  1900 |cost:  0.385453 |W1:    1.3463 |W2:    0.6664 |W3:    0.0229 |b -1.474913\n",
      "epochs:  1950 |cost:  0.385046 |W1:    1.3461 |W2:    0.6663 |W3:    0.0232 |b -1.474937\n",
      "epochs:  2000 |cost:  0.384638 |W1:    1.3458 |W2:    0.6661 |W3:    0.0236 |b -1.474961\n",
      "epochs:  2050 |cost:  0.384236 |W1:    1.3456 |W2:    0.6660 |W3:    0.0240 |b -1.474985\n",
      "epochs:  2100 |cost:  0.383824 |W1:    1.3453 |W2:    0.6659 |W3:    0.0243 |b -1.475009\n",
      "epochs:  2150 |cost:  0.383431 |W1:    1.3451 |W2:    0.6658 |W3:    0.0247 |b -1.475033\n",
      "epochs:  2200 |cost:  0.383028 |W1:    1.3449 |W2:    0.6656 |W3:    0.0250 |b -1.475056\n",
      "epochs:  2250 |cost:  0.382627 |W1:    1.3446 |W2:    0.6655 |W3:    0.0254 |b -1.475080\n",
      "epochs:  2300 |cost:  0.382224 |W1:    1.3444 |W2:    0.6654 |W3:    0.0258 |b -1.475104\n",
      "epochs:  2350 |cost:  0.381827 |W1:    1.3441 |W2:    0.6653 |W3:    0.0261 |b -1.475128\n",
      "epochs:  2400 |cost:  0.381419 |W1:    1.3439 |W2:    0.6651 |W3:    0.0265 |b -1.475152\n",
      "epochs:  2450 |cost:  0.381027 |W1:    1.3437 |W2:    0.6650 |W3:    0.0268 |b -1.475176\n"
     ]
    }
   ],
   "source": [
    "for i in range(2500):\n",
    "    with tf.GradientTape(persistent=False) as tape:\n",
    "        hypothesis = x1_data*w1 + x2_data * w2 + x3_data*w3 + b\n",
    "#         hypothesis = tf.multiply(x1_data, w1) + tf.multiply(x2_data, w2) + tf.multiply(x3_data, w3) + b\n",
    "        cost = tf.reduce_mean(tf.square(hypothesis - y_data))\n",
    "        w1_grad, w2_grad, w3_grad, b_grad = tape.gradient(cost, [w1, w2, w3, b])\n",
    "        w1.assign_sub(learning_rate * w1_grad) \n",
    "        w2.assign_sub(learning_rate * w2_grad) \n",
    "        w3.assign_sub(learning_rate * w3_grad) \n",
    "        b.assign_sub(learning_rate * b_grad)   \n",
    "        \n",
    "    if i % 50 == 0:\n",
    "        print(\"epochs: {:5} |cost:{:10.6f} |W1:{:10.4f} |W2:{:10.4f} |W3:{:10.4f} |b{:10.6f}\".format(i, cost.numpy(), w1.numpy()[0], w2.numpy()[0], w3.numpy()[0], b.numpy()[0]))"
   ]
  },
  {
   "cell_type": "code",
   "execution_count": 63,
   "id": "4fa68dc3",
   "metadata": {},
   "outputs": [],
   "source": [
    "# Matrix\n",
    "x_data = [[73., 80., 75.], [93., 88., 93.],\n",
    "          [89., 91., 90.], [96., 98., 100.], [73., 66., 70.]]\n",
    "y_data = [[152.], [185.], [180.], [196.], [142.]]"
   ]
  },
  {
   "cell_type": "code",
   "execution_count": 3,
   "id": "e30159ef",
   "metadata": {},
   "outputs": [],
   "source": [
    "W = tf.Variable(tf.random.normal([1, 5]))\n",
    "b = tf.Variable(tf.random.normal([1]), name='bias')\n",
    "\n",
    "learning_rate = tf.Variable(0.00001)\n",
    "optimizer = tf.keras.optimizers.SGD(learning_rate)\n"
   ]
  },
  {
   "cell_type": "code",
   "execution_count": 101,
   "id": "845342f1",
   "metadata": {},
   "outputs": [
    {
     "name": "stdout",
     "output_type": "stream",
     "text": [
      "epochs:     0 |cost:    434.998 |W1:      1.678 |W2:    -0.5211 |W3:    -0.3712| b:    -1.2167\n",
      "epochs:    50 |cost:    434.371 |W1:      1.667 |W2:    -0.5133 |W3:    -0.3747| b:    -1.2167\n",
      "epochs:   100 |cost:    433.772 |W1:      1.656 |W2:    -0.5057 |W3:    -0.3781| b:   -1.21671\n",
      "epochs:   150 |cost:    433.199 |W1:      1.645 |W2:    -0.4983 |W3:    -0.3814| b:   -1.21672\n",
      "epochs:   200 |cost:    432.652 |W1:      1.634 |W2:     -0.491 |W3:    -0.3846| b:   -1.21672\n",
      "epochs:   250 |cost:    432.129 |W1:      1.624 |W2:    -0.4839 |W3:    -0.3877| b:   -1.21673\n",
      "epochs:   300 |cost:    431.629 |W1:      1.614 |W2:     -0.477 |W3:    -0.3908| b:   -1.21673\n",
      "epochs:   350 |cost:    431.151 |W1:      1.604 |W2:    -0.4702 |W3:    -0.3938| b:   -1.21674\n",
      "epochs:   400 |cost:    430.694 |W1:      1.594 |W2:    -0.4636 |W3:    -0.3968| b:   -1.21675\n",
      "epochs:   450 |cost:    430.257 |W1:      1.585 |W2:    -0.4571 |W3:    -0.3996| b:   -1.21675\n",
      "epochs:   500 |cost:     429.84 |W1:      1.576 |W2:    -0.4508 |W3:    -0.4025| b:   -1.21676\n",
      "epochs:   550 |cost:    429.441 |W1:      1.567 |W2:    -0.4446 |W3:    -0.4052| b:   -1.21676\n",
      "epochs:   600 |cost:     429.06 |W1:      1.558 |W2:    -0.4385 |W3:    -0.4079| b:   -1.21677\n",
      "epochs:   650 |cost:    428.695 |W1:      1.549 |W2:    -0.4326 |W3:    -0.4105| b:   -1.21678\n",
      "epochs:   700 |cost:    428.347 |W1:      1.541 |W2:    -0.4268 |W3:    -0.4131| b:   -1.21678\n",
      "epochs:   750 |cost:    428.014 |W1:      1.532 |W2:    -0.4211 |W3:    -0.4156| b:   -1.21679\n",
      "epochs:   800 |cost:    427.696 |W1:      1.524 |W2:    -0.4156 |W3:    -0.4181| b:   -1.21679\n",
      "epochs:   850 |cost:    427.391 |W1:      1.517 |W2:    -0.4102 |W3:    -0.4204| b:    -1.2168\n",
      "epochs:   900 |cost:    427.101 |W1:      1.509 |W2:    -0.4049 |W3:    -0.4228| b:   -1.21681\n",
      "epochs:   950 |cost:    426.823 |W1:      1.501 |W2:    -0.3998 |W3:    -0.4251| b:   -1.21681\n",
      "epochs:  1000 |cost:    426.557 |W1:      1.494 |W2:    -0.3947 |W3:    -0.4273| b:   -1.21682\n",
      "epochs:  1050 |cost:    426.303 |W1:      1.487 |W2:    -0.3898 |W3:    -0.4295| b:   -1.21682\n",
      "epochs:  1100 |cost:     426.06 |W1:       1.48 |W2:    -0.3849 |W3:    -0.4316| b:   -1.21683\n",
      "epochs:  1150 |cost:    425.828 |W1:      1.473 |W2:    -0.3802 |W3:    -0.4337| b:   -1.21683\n",
      "epochs:  1200 |cost:    425.606 |W1:      1.466 |W2:    -0.3756 |W3:    -0.4358| b:   -1.21683\n",
      "epochs:  1250 |cost:    425.394 |W1:       1.46 |W2:    -0.3711 |W3:    -0.4378| b:   -1.21683\n",
      "epochs:  1300 |cost:    425.192 |W1:      1.453 |W2:    -0.3667 |W3:    -0.4397| b:   -1.21683\n",
      "epochs:  1350 |cost:    424.998 |W1:      1.447 |W2:    -0.3624 |W3:    -0.4416| b:   -1.21683\n",
      "epochs:  1400 |cost:    424.813 |W1:      1.441 |W2:    -0.3581 |W3:    -0.4435| b:   -1.21683\n",
      "epochs:  1450 |cost:    424.636 |W1:      1.435 |W2:     -0.354 |W3:    -0.4453| b:   -1.21683\n",
      "epochs:  1500 |cost:    424.467 |W1:      1.429 |W2:      -0.35 |W3:    -0.4471| b:   -1.21683\n",
      "epochs:  1550 |cost:    424.305 |W1:      1.423 |W2:    -0.3461 |W3:    -0.4489| b:   -1.21683\n",
      "epochs:  1600 |cost:    424.151 |W1:      1.418 |W2:    -0.3422 |W3:    -0.4506| b:   -1.21683\n",
      "epochs:  1650 |cost:    424.003 |W1:      1.412 |W2:    -0.3385 |W3:    -0.4522| b:   -1.21683\n",
      "epochs:  1700 |cost:    423.862 |W1:      1.407 |W2:    -0.3348 |W3:    -0.4538| b:   -1.21683\n",
      "epochs:  1750 |cost:    423.727 |W1:      1.402 |W2:    -0.3312 |W3:    -0.4554| b:   -1.21683\n",
      "epochs:  1800 |cost:    423.598 |W1:      1.396 |W2:    -0.3277 |W3:     -0.457| b:   -1.21683\n",
      "epochs:  1850 |cost:    423.475 |W1:      1.391 |W2:    -0.3242 |W3:    -0.4585| b:   -1.21683\n",
      "epochs:  1900 |cost:    423.357 |W1:      1.387 |W2:    -0.3209 |W3:      -0.46| b:   -1.21683\n",
      "epochs:  1950 |cost:    423.244 |W1:      1.382 |W2:    -0.3176 |W3:    -0.4614| b:   -1.21683\n",
      "epochs:  2000 |cost:    423.136 |W1:      1.377 |W2:    -0.3144 |W3:    -0.4628| b:   -1.21683\n",
      "epochs:  2050 |cost:    423.033 |W1:      1.373 |W2:    -0.3112 |W3:    -0.4642| b:   -1.21683\n",
      "epochs:  2100 |cost:    422.935 |W1:      1.368 |W2:    -0.3082 |W3:    -0.4656| b:   -1.21683\n",
      "epochs:  2150 |cost:    422.841 |W1:      1.364 |W2:    -0.3052 |W3:    -0.4669| b:   -1.21683\n",
      "epochs:  2200 |cost:    422.751 |W1:      1.359 |W2:    -0.3022 |W3:    -0.4682| b:   -1.21683\n",
      "epochs:  2250 |cost:    422.665 |W1:      1.355 |W2:    -0.2994 |W3:    -0.4695| b:   -1.21683\n",
      "epochs:  2300 |cost:    422.583 |W1:      1.351 |W2:    -0.2966 |W3:    -0.4707| b:   -1.21683\n",
      "epochs:  2350 |cost:    422.505 |W1:      1.347 |W2:    -0.2938 |W3:    -0.4719| b:   -1.21683\n",
      "epochs:  2400 |cost:     422.43 |W1:      1.343 |W2:    -0.2912 |W3:    -0.4731| b:   -1.21683\n",
      "epochs:  2450 |cost:    422.358 |W1:       1.34 |W2:    -0.2886 |W3:    -0.4742| b:   -1.21683\n"
     ]
    }
   ],
   "source": [
    "for i in range(2500):\n",
    "    with tf.GradientTape(persistent=False) as tape:\n",
    "        hypothesis = tf.matmul(W, x_data) + b\n",
    "        cost = tf.reduce_mean(tf.square(hypothesis - y_data))\n",
    "        grads = tape.gradient(cost, [W, b])\n",
    "        \n",
    "        optimizer.apply_gradients(zip(grads, [W, b]))\n",
    "    if i % 50 == 0:\n",
    "        print(\"epochs: {:5} |cost: {:10.6} |W1: {:10.4} |W2: {:10.4} |W3: {:10.4}| b: {:10.6}\"\n",
    "              .format(i, cost, W.numpy()[0][0], W.numpy()[0][1], W.numpy()[0][2], b.numpy()[0]))"
   ]
  },
  {
   "cell_type": "code",
   "execution_count": null,
   "id": "0cb9cb6b",
   "metadata": {},
   "outputs": [],
   "source": []
  },
  {
   "cell_type": "code",
   "execution_count": null,
   "id": "0c905009",
   "metadata": {
    "lines_to_next_cell": 2
   },
   "outputs": [],
   "source": []
  }
 ],
 "metadata": {
  "jupytext": {
   "formats": "ipynb,py:light"
  },
  "kernelspec": {
   "display_name": "Python 3",
   "language": "python",
   "name": "python3"
  },
  "language_info": {
   "codemirror_mode": {
    "name": "ipython",
    "version": 3
   },
   "file_extension": ".py",
   "mimetype": "text/x-python",
   "name": "python",
   "nbconvert_exporter": "python",
   "pygments_lexer": "ipython3",
   "version": "3.7.11"
  }
 },
 "nbformat": 4,
 "nbformat_minor": 5
}
