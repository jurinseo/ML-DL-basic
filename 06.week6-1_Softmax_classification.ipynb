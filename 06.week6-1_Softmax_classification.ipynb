{
 "cells": [
  {
   "cell_type": "code",
   "execution_count": 36,
   "id": "1c6afb18",
   "metadata": {},
   "outputs": [],
   "source": [
    "import tensorflow as tf\n",
    "import numpy as np\n",
    "import matplotlib.pyplot as plt"
   ]
  },
  {
   "cell_type": "code",
   "execution_count": 37,
   "id": "190fc095",
   "metadata": {},
   "outputs": [],
   "source": [
    "x_data = [[1, 2, 1, 1],\n",
    "          [2, 1, 3, 2],\n",
    "          [3, 1, 3, 4],\n",
    "          [4, 1, 5, 5],\n",
    "          [1, 7, 5, 5],\n",
    "          [1, 2, 5, 6],\n",
    "          [1, 6, 6, 6],\n",
    "          [1, 7, 7, 7]]\n",
    "y_data = [[0, 0, 1],\n",
    "          [0, 0, 1],\n",
    "          [0, 0, 1],\n",
    "          [0, 1, 0],\n",
    "          [0, 1, 0],\n",
    "          [0, 1, 0],\n",
    "          [1, 0, 0],\n",
    "          [1, 0, 0]]"
   ]
  },
  {
   "cell_type": "code",
   "execution_count": 45,
   "id": "454ad707",
   "metadata": {},
   "outputs": [],
   "source": [
    "x_data = np.asarray(x_data, dtype=np.float32)\n",
    "y_data = np.asarray(y_data, dtype=np.float32)\n",
    "\n",
    "dataset = tf.data.Dataset.from_tensor_slices((x_data, y_data))\n",
    "\n",
    "nb_classes = 3"
   ]
  },
  {
   "cell_type": "code",
   "execution_count": 48,
   "id": "36a35e43",
   "metadata": {},
   "outputs": [
    {
     "name": "stdout",
     "output_type": "stream",
     "text": [
      "<TensorSliceDataset shapes: ((4,), (3,)), types: (tf.float32, tf.float32)>\n"
     ]
    }
   ],
   "source": [
    "W = tf.Variable(tf.random.normal([x_data.shape[1], nb_classes]), name='weight')\n",
    "b = tf.Variable(tf.random.normal([nb_classes]), name='bias')\n",
    "\n",
    "print(dataset)"
   ]
  },
  {
   "cell_type": "code",
   "execution_count": 40,
   "id": "d0c4f67d",
   "metadata": {},
   "outputs": [
    {
     "name": "stdout",
     "output_type": "stream",
     "text": [
      "tf.Tensor(\n",
      "[[2.6178825e-01 2.1875215e-01 5.1945955e-01]\n",
      " [9.6412271e-01 1.3785313e-02 2.2091934e-02]\n",
      " [8.9354593e-01 9.0901405e-02 1.5552753e-02]\n",
      " [9.9484891e-01 4.7748303e-03 3.7622621e-04]\n",
      " [9.5212922e-02 9.0409797e-01 6.8911357e-04]\n",
      " [8.3021981e-01 1.6958715e-01 1.9307256e-04]\n",
      " [3.5969231e-01 6.4015341e-01 1.5431028e-04]\n",
      " [2.8281376e-01 7.1716076e-01 2.5458732e-05]], shape=(8, 3), dtype=float32)\n"
     ]
    }
   ],
   "source": [
    "def hypothesis(X):\n",
    "    return tf.nn.softmax(tf.matmul(X, W)+b)\n",
    "\n",
    "print(hypothesis(x_data))"
   ]
  },
  {
   "cell_type": "code",
   "execution_count": 41,
   "id": "1d93569c",
   "metadata": {},
   "outputs": [
    {
     "name": "stdout",
     "output_type": "stream",
     "text": [
      "tf.Tensor([[0.12284401 0.12344541 0.75371057]], shape=(1, 3), dtype=float32)\n"
     ]
    }
   ],
   "source": [
    "sample_db = [[8,2,1,4]]\n",
    "sample_db = np.asarray(sample_db, dtype=np.float32)\n",
    "\n",
    "print(hypothesis(sample_db))"
   ]
  },
  {
   "cell_type": "code",
   "execution_count": 42,
   "id": "89e99f70",
   "metadata": {},
   "outputs": [
    {
     "name": "stdout",
     "output_type": "stream",
     "text": [
      "tf.Tensor(2.2670128, shape=(), dtype=float32)\n"
     ]
    }
   ],
   "source": [
    "def cost_fn(X, Y):\n",
    "    logits = hypothesis(X)\n",
    "    cost = -tf.reduce_sum(Y * tf.math.log(logits), axis=1)\n",
    "    cost_mean = tf.reduce_mean(cost)\n",
    "    \n",
    "    return cost_mean\n",
    "\n",
    "optimizer = tf.keras.optimizers.SGD(learning_rate = 0.01)\n",
    "print(cost_fn(x_data, y_data))"
   ]
  },
  {
   "cell_type": "code",
   "execution_count": 43,
   "id": "920da807",
   "metadata": {},
   "outputs": [
    {
     "name": "stdout",
     "output_type": "stream",
     "text": [
      "[<tf.Tensor: shape=(4, 3), dtype=float32, numpy=\n",
      "array([[ 1.0522507 , -0.3788593 , -0.67339146],\n",
      "       [-0.39489067,  0.75948393, -0.36459324],\n",
      "       [ 0.8217566 , -0.02673024, -0.7950263 ],\n",
      "       [ 0.916712  , -0.12089235, -0.7958195 ]], dtype=float32)>, <tf.Tensor: shape=(3,), dtype=float32, numpy=array([ 0.3352806 , -0.03009837, -0.30518222], dtype=float32)>]\n"
     ]
    }
   ],
   "source": [
    "def grad(X, Y):\n",
    "    with tf.GradientTape() as tape:\n",
    "        loss_value = cost_fn(X, Y)\n",
    "        return tape.gradient(loss_value, [W, b])\n",
    "    \n",
    "print(grad(x_data, y_data))"
   ]
  },
  {
   "cell_type": "code",
   "execution_count": 68,
   "id": "01630d66",
   "metadata": {},
   "outputs": [],
   "source": [
    "epoch = []\n",
    "cost = []\n",
    "def fit(X, Y, epochs = 3001):\n",
    "    optimizer = tf.keras.optimizers.SGD(learning_rate = 0.01)\n",
    "    \n",
    "    for i in range(epochs):\n",
    "        grads = grad(X, Y)\n",
    "        optimizer.apply_gradients(zip(grads, [W, b]))\n",
    "        epoch.append(i)\n",
    "        cost.append(cost_fn(X,Y).numpy())\n",
    "        if i % 100 == 0:\n",
    "            print('epoch: {}, cost: {:.4f}'.format(i, cost_fn(X, Y).numpy()))"
   ]
  },
  {
   "cell_type": "code",
   "execution_count": 69,
   "id": "2e7c05eb",
   "metadata": {},
   "outputs": [
    {
     "name": "stdout",
     "output_type": "stream",
     "text": [
      "epoch: 0, cost: 0.2489\n",
      "epoch: 100, cost: 0.2475\n",
      "epoch: 200, cost: 0.2462\n",
      "epoch: 300, cost: 0.2449\n",
      "epoch: 400, cost: 0.2436\n",
      "epoch: 500, cost: 0.2423\n",
      "epoch: 600, cost: 0.2410\n",
      "epoch: 700, cost: 0.2397\n",
      "epoch: 800, cost: 0.2385\n",
      "epoch: 900, cost: 0.2372\n",
      "epoch: 1000, cost: 0.2360\n",
      "epoch: 1100, cost: 0.2348\n",
      "epoch: 1200, cost: 0.2336\n",
      "epoch: 1300, cost: 0.2324\n",
      "epoch: 1400, cost: 0.2312\n",
      "epoch: 1500, cost: 0.2300\n",
      "epoch: 1600, cost: 0.2289\n",
      "epoch: 1700, cost: 0.2277\n",
      "epoch: 1800, cost: 0.2266\n",
      "epoch: 1900, cost: 0.2255\n",
      "epoch: 2000, cost: 0.2243\n",
      "epoch: 2100, cost: 0.2232\n",
      "epoch: 2200, cost: 0.2221\n",
      "epoch: 2300, cost: 0.2211\n",
      "epoch: 2400, cost: 0.2200\n",
      "epoch: 2500, cost: 0.2189\n",
      "epoch: 2600, cost: 0.2179\n",
      "epoch: 2700, cost: 0.2168\n",
      "epoch: 2800, cost: 0.2158\n",
      "epoch: 2900, cost: 0.2148\n",
      "epoch: 3000, cost: 0.2137\n"
     ]
    }
   ],
   "source": [
    "fit(x_data, y_data)"
   ]
  },
  {
   "cell_type": "code",
   "execution_count": 70,
   "id": "a6be2fd1",
   "metadata": {},
   "outputs": [
    {
     "data": {
      "image/png": "[encoded data removed]",
      "text/plain": [
       "<Figure size 576x432 with 1 Axes>"
      ]
     },
     "metadata": {
      "needs_background": "light"
     },
     "output_type": "display_data"
    }
   ],
   "source": [
    "plt.rcParams[\"figure.figsize\"] = (8,6)\n",
    "plt.plot(epoch, cost, \"b\")\n",
    "plt.xlabel(\"epoch\")\n",
    "plt.ylabel(\"cost\")\n",
    "plt.show()"
   ]
  },
  {
   "cell_type": "code",
   "execution_count": 71,
   "id": "a7ad436e",
   "metadata": {},
   "outputs": [],
   "source": [
    "sample = [[1, 7, 7, 7]]\n",
    "sample = np.asarray(sample, dtype = np.float32)"
   ]
  },
  {
   "cell_type": "code",
   "execution_count": 72,
   "id": "abe02bc6",
   "metadata": {},
   "outputs": [
    {
     "name": "stdout",
     "output_type": "stream",
     "text": [
      "tf.Tensor([[8.6078554e-01 1.3920636e-01 8.0830423e-06]], shape=(1, 3), dtype=float32)\n"
     ]
    }
   ],
   "source": [
    "a = hypothesis(sample)\n",
    "print(a)"
   ]
  },
  {
   "cell_type": "code",
   "execution_count": null,
   "id": "d6468606",
   "metadata": {},
   "outputs": [],
   "source": []
  }
 ],
 "metadata": {
  "jupytext": {
   "formats": "ipynb,py:light"
  },
  "kernelspec": {
   "display_name": "Python 3",
   "language": "python",
   "name": "python3"
  },
  "language_info": {
   "codemirror_mode": {
    "name": "ipython",
    "version": 3
   },
   "file_extension": ".py",
   "mimetype": "text/x-python",
   "name": "python",
   "nbconvert_exporter": "python",
   "pygments_lexer": "ipython3",
   "version": "3.7.11"
  }
 },
 "nbformat": 4,
 "nbformat_minor": 5
}
