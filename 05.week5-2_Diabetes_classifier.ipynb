{
 "cells": [
  {
   "cell_type": "code",
   "execution_count": 3,
   "id": "b3d7403a",
   "metadata": {},
   "outputs": [],
   "source": [
    "import tensorflow as tf\n",
    "import numpy as np\n",
    "import matplotlib.pyplot as plt\n",
    "tf.random.set_seed(100)"
   ]
  },
  {
   "cell_type": "code",
   "execution_count": 4,
   "id": "5a930bc1",
   "metadata": {},
   "outputs": [
    {
     "name": "stdout",
     "output_type": "stream",
     "text": [
      "(759, 8)\n"
     ]
    }
   ],
   "source": [
    "xy = np.loadtxt('Data/data-03-diabetes.csv', delimiter=',', dtype=np.float32)\n",
    "x_data = xy[:, 0:-1]\n",
    "y_data = xy[:, [-1]]\n",
    "print(x_data.shape)"
   ]
  },
  {
   "cell_type": "code",
   "execution_count": 5,
   "id": "04dee0ce",
   "metadata": {},
   "outputs": [],
   "source": [
    "dataset = tf.data.Dataset.from_tensor_slices((x_data, y_data)).batch(len(x_data))\n",
    "\n",
    "W = tf.Variable(tf.random.normal([x_data.shape[1],1]), name='weight') \n",
    "b = tf.Variable(tf.zeros([1]), name='bias')  "
   ]
  },
  {
   "cell_type": "code",
   "execution_count": 6,
   "id": "c385d85f",
   "metadata": {},
   "outputs": [],
   "source": [
    "def logistic_regression(X):\n",
    "    h = tf.divide(1., 1. + tf.exp(tf.matmul(X, W) + b))\n",
    "    return h"
   ]
  },
  {
   "cell_type": "code",
   "execution_count": 7,
   "id": "5b1f479f",
   "metadata": {},
   "outputs": [],
   "source": [
    "def loss_function(h, X, Y):\n",
    "    cost = tf.reduce_mean(-Y * tf.math.log(h) - (1 - Y)*tf.math.log(1 - h))\n",
    "    return cost\n",
    "\n",
    "optimizer = tf.keras.optimizers.SGD(learning_rate = 0.05)"
   ]
  },
  {
   "cell_type": "code",
   "execution_count": 8,
   "id": "8e7ac63b",
   "metadata": {},
   "outputs": [],
   "source": [
    "def accuracy_function(h, Y):\n",
    "    predicted = tf.cast(h > 0.5, dtype=tf.float32)\n",
    "    accuracy = tf.reduce_mean(tf.cast(tf.equal(predicted, Y), dtype=tf.float32))\n",
    "    return accuracy"
   ]
  },
  {
   "cell_type": "code",
   "execution_count": 9,
   "id": "bfb92272",
   "metadata": {},
   "outputs": [],
   "source": [
    "def grad(h, X, Y):\n",
    "    with tf.GradientTape() as tape:\n",
    "        loss_value = loss_function(logistic_regression(X), X, Y)\n",
    "        return tape.gradient(loss_value, [W, b])"
   ]
  },
  {
   "cell_type": "code",
   "execution_count": 13,
   "id": "c75ecdff",
   "metadata": {},
   "outputs": [
    {
     "name": "stdout",
     "output_type": "stream",
     "text": [
      "Iter: 0, Loss: 0.48147, Accuracy: 0.7668\n",
      "Iter: 100, Loss: 0.48063, Accuracy: 0.7708\n",
      "Iter: 200, Loss: 0.47989, Accuracy: 0.7681\n",
      "Iter: 300, Loss: 0.47922, Accuracy: 0.7668\n",
      "Iter: 400, Loss: 0.47863, Accuracy: 0.7668\n",
      "Iter: 500, Loss: 0.47809, Accuracy: 0.7668\n",
      "Iter: 600, Loss: 0.47761, Accuracy: 0.7681\n",
      "Iter: 700, Loss: 0.47718, Accuracy: 0.7708\n",
      "Iter: 800, Loss: 0.47678, Accuracy: 0.7708\n",
      "Iter: 900, Loss: 0.47643, Accuracy: 0.7721\n",
      "Iter: 1000, Loss: 0.47610, Accuracy: 0.7721\n",
      "Iter: 1100, Loss: 0.47581, Accuracy: 0.7721\n",
      "Iter: 1200, Loss: 0.47554, Accuracy: 0.7721\n",
      "Iter: 1300, Loss: 0.47529, Accuracy: 0.7721\n",
      "Iter: 1400, Loss: 0.47507, Accuracy: 0.7721\n",
      "Iter: 1500, Loss: 0.47486, Accuracy: 0.7721\n",
      "Iter: 1600, Loss: 0.47467, Accuracy: 0.7721\n",
      "Iter: 1700, Loss: 0.47449, Accuracy: 0.7721\n",
      "Iter: 1800, Loss: 0.47433, Accuracy: 0.7721\n",
      "Iter: 1900, Loss: 0.47418, Accuracy: 0.7721\n",
      "Iter: 2000, Loss: 0.47404, Accuracy: 0.7721\n",
      "Iter: 2100, Loss: 0.47391, Accuracy: 0.7721\n",
      "Iter: 2200, Loss: 0.47379, Accuracy: 0.7721\n",
      "Iter: 2300, Loss: 0.47368, Accuracy: 0.7721\n",
      "Iter: 2400, Loss: 0.47358, Accuracy: 0.7721\n"
     ]
    }
   ],
   "source": [
    "epochs = 2500\n",
    "i = []\n",
    "cost = []\n",
    "acc = []\n",
    "for epoch in range(epochs):\n",
    "    i.append(epoch)\n",
    "    for X, Y in iter(dataset):\n",
    "        grads = grad(logistic_regression(X), X, Y)\n",
    "        optimizer.apply_gradients(grads_and_vars = zip(grads, [W, b]))\n",
    "        cost.append(loss_function(logistic_regression(X), X, Y))\n",
    "        acc.append(accuracy_function(logistic_regression(X), Y))\n",
    "        if epoch % 100 == 0:\n",
    "            print(\"Iter: {}, Loss: {:.5f}, Accuracy: {:.4f}\".format(epoch, loss_function(logistic_regression(X), X, Y), accuracy_function(logistic_regression(X), Y)))"
   ]
  },
  {
   "cell_type": "code",
   "execution_count": 11,
   "id": "614b86c4",
   "metadata": {},
   "outputs": [
    {
     "data": {
      "image/png": "[encoded data removed]",
      "text/plain": [
       "<Figure size 576x432 with 1 Axes>"
      ]
     },
     "metadata": {
      "needs_background": "light"
     },
     "output_type": "display_data"
    }
   ],
   "source": [
    "plt.rcParams[\"figure.figsize\"] = (8,6)\n",
    "plt.plot(i, cost, \"b\")\n",
    "plt.xlabel(\"epoch\")\n",
    "plt.ylabel(\"cost\")\n",
    "plt.show()"
   ]
  },
  {
   "cell_type": "code",
   "execution_count": 12,
   "id": "0369df85",
   "metadata": {},
   "outputs": [
    {
     "data": {
      "image/png": "[encoded data removed]",
      "text/plain": [
       "<Figure size 576x432 with 1 Axes>"
      ]
     },
     "metadata": {
      "needs_background": "light"
     },
     "output_type": "display_data"
    }
   ],
   "source": [
    "plt.rcParams[\"figure.figsize\"] = (8,6)\n",
    "plt.plot(i, acc, \"r\")\n",
    "plt.xlabel(\"epoch\")\n",
    "plt.ylabel(\"accuracy\")\n",
    "plt.show()"
   ]
  },
  {
   "cell_type": "code",
   "execution_count": null,
   "id": "4574de6e",
   "metadata": {},
   "outputs": [],
   "source": []
  }
 ],
 "metadata": {
  "jupytext": {
   "formats": "ipynb,py:light"
  },
  "kernelspec": {
   "display_name": "Python 3",
   "language": "python",
   "name": "python3"
  },
  "language_info": {
   "codemirror_mode": {
    "name": "ipython",
    "version": 3
   },
   "file_extension": ".py",
   "mimetype": "text/x-python",
   "name": "python",
   "nbconvert_exporter": "python",
   "pygments_lexer": "ipython3",
   "version": "3.7.11"
  }
 },
 "nbformat": 4,
 "nbformat_minor": 5
}
