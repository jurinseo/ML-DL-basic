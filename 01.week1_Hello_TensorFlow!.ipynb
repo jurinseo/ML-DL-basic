{
 "cells": [
  {
   "cell_type": "code",
   "execution_count": 10,
   "id": "27748cd9",
   "metadata": {},
   "outputs": [],
   "source": [
    "import tensorflow as tf"
   ]
  },
  {
   "cell_type": "code",
   "execution_count": 11,
   "id": "c7f82edd",
   "metadata": {},
   "outputs": [
    {
     "name": "stdout",
     "output_type": "stream",
     "text": [
      "tf.Tensor(b'Hello, TensorFlow!', shape=(), dtype=string)\n"
     ]
    }
   ],
   "source": [
    "hello = tf.constant(\"Hello, TensorFlow!\")\n",
    "\n",
    "print(hello)"
   ]
  },
  {
   "cell_type": "code",
   "execution_count": 12,
   "id": "b2f1fbc1",
   "metadata": {},
   "outputs": [],
   "source": [
    "node1 = tf.constant(3.0, tf.float32)\n",
    "node2 = tf.constant(4.0)\n",
    "node3 = tf.add(node1, node2)"
   ]
  },
  {
   "cell_type": "code",
   "execution_count": 13,
   "id": "bda61378",
   "metadata": {},
   "outputs": [
    {
     "name": "stdout",
     "output_type": "stream",
     "text": [
      "node1:3.0, node2:4.0\n",
      "node3:7.0\n"
     ]
    }
   ],
   "source": [
    "print(\"node1:{}, node2:{}\".format(node1, node2))\n",
    "print(\"node3:{}\".format(node3))"
   ]
  },
  {
   "cell_type": "code",
   "execution_count": 14,
   "id": "35410f5a",
   "metadata": {},
   "outputs": [],
   "source": [
    "# FUNCTION\n",
    "@tf.function\n",
    "def add(node1, node2):\n",
    "    return node1 + node2"
   ]
  },
  {
   "cell_type": "code",
   "execution_count": 15,
   "id": "1805b370",
   "metadata": {},
   "outputs": [
    {
     "name": "stdout",
     "output_type": "stream",
     "text": [
      "tf.Tensor(7.0, shape=(), dtype=float32)\n"
     ]
    }
   ],
   "source": [
    "node3 = add(node1, node2)\n",
    "print(node3)"
   ]
  },
  {
   "cell_type": "code",
   "execution_count": 16,
   "id": "242507b2",
   "metadata": {},
   "outputs": [
    {
     "name": "stdout",
     "output_type": "stream",
     "text": [
      "tf.Tensor(\n",
      "[[3 4 5]\n",
      " [7 8 9]], shape=(2, 3), dtype=int32)\n"
     ]
    }
   ],
   "source": [
    "node4 = tf.constant([[1, 2, 3], [4, 5, 6]])\n",
    "node5 = tf.constant([[2, 2, 2], [3, 3, 3]])\n",
    "node6 = add(node4, node5)\n",
    "print(node6)"
   ]
  }
 ],
 "metadata": {
  "jupytext": {
   "formats": "ipynb,auto:light"
  },
  "kernelspec": {
   "display_name": "Python 3",
   "language": "python",
   "name": "python3"
  },
  "language_info": {
   "codemirror_mode": {
    "name": "ipython",
    "version": 3
   },
   "file_extension": ".py",
   "mimetype": "text/x-python",
   "name": "python",
   "nbconvert_exporter": "python",
   "pygments_lexer": "ipython3",
   "version": "3.7.11"
  }
 },
 "nbformat": 4,
 "nbformat_minor": 5
}
