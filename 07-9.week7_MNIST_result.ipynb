{
 "cells": [
  {
   "cell_type": "code",
   "execution_count": 2,
   "id": "0071d7fb",
   "metadata": {},
   "outputs": [],
   "source": [
    "import numpy as np\n",
    "import tensorflow as tf\n",
    "tf.random.set_seed(55)\n",
    "import matplotlib.pyplot as plt"
   ]
  },
  {
   "cell_type": "code",
   "execution_count": 3,
   "id": "8e26a6c7",
   "metadata": {},
   "outputs": [],
   "source": [
    "mnist = tf.keras.datasets.mnist\n",
    "\n",
    "# 0. Data preprocessing\n",
    "(x_train, y_train),(x_test, y_test) = mnist.load_data()\n",
    "x_train, x_test = x_train / 255.0, x_test / 255.0"
   ]
  },
  {
   "cell_type": "code",
   "execution_count": 4,
   "id": "550eb643",
   "metadata": {},
   "outputs": [],
   "source": [
    "# 1. learning rate = 0.5, 0.1, 0.01\n",
    "# 2. activation function = reLU\n",
    "# 3. loss function = sparse_categorical_crossentropy\n",
    "# to prevent overfitting :\n",
    "    # 4. drop out = 0.2, 0.5\n",
    "    # 5. l2    "
   ]
  },
  {
   "cell_type": "code",
   "execution_count": 5,
   "id": "1861cbd4",
   "metadata": {},
   "outputs": [
    {
     "name": "stdout",
     "output_type": "stream",
     "text": [
      "Train on 60000 samples\n",
      "Epoch 1/10\n",
      "60000/60000 [==============================] - 2s 26us/sample - loss: 0.2733 - accuracy: 0.9199\n",
      "Epoch 2/10\n",
      "60000/60000 [==============================] - 1s 20us/sample - loss: 0.1115 - accuracy: 0.9675\n",
      "Epoch 3/10\n",
      "60000/60000 [==============================] - 1s 19us/sample - loss: 0.0760 - accuracy: 0.9776\n",
      "Epoch 4/10\n",
      "60000/60000 [==============================] - 1s 20us/sample - loss: 0.0573 - accuracy: 0.9839\n",
      "Epoch 5/10\n",
      "60000/60000 [==============================] - 1s 20us/sample - loss: 0.0450 - accuracy: 0.9873\n",
      "Epoch 6/10\n",
      "60000/60000 [==============================] - 1s 19us/sample - loss: 0.0353 - accuracy: 0.9902\n",
      "Epoch 7/10\n",
      "60000/60000 [==============================] - 1s 19us/sample - loss: 0.0282 - accuracy: 0.9926\n",
      "Epoch 8/10\n",
      "60000/60000 [==============================] - 1s 19us/sample - loss: 0.0227 - accuracy: 0.9945\n",
      "Epoch 9/10\n",
      "60000/60000 [==============================] - 1s 19us/sample - loss: 0.0185 - accuracy: 0.9960\n",
      "Epoch 10/10\n",
      "60000/60000 [==============================] - 1s 19us/sample - loss: 0.0149 - accuracy: 0.9972\n"
     ]
    },
    {
     "data": {
      "image/png": "[encoded data removed]",
      "text/plain": [
       "<Figure size 432x288 with 1 Axes>"
      ]
     },
     "metadata": {
      "needs_background": "light"
     },
     "output_type": "display_data"
    }
   ],
   "source": [
    "# Model1 : lr = 0.5\n",
    "\n",
    "# 1. Model Design\n",
    "model1 = tf.keras.models.Sequential([\n",
    "  tf.keras.layers.Flatten(), # input data transform: 1D array\n",
    "  tf.keras.layers.Dense(512, activation='relu'), # set activation function\n",
    "#   tf.keras.layers.Dropout(0.2), # set dropout\n",
    "  tf.keras.layers.Dense(10, activation='softmax'), # set output layer\n",
    "\n",
    "])\n",
    "\n",
    "optimizer1 = tf.keras.optimizers.SGD(learning_rate=0.5)\n",
    "\n",
    "# 2. Model Compile\n",
    "model1.compile(optimizer=optimizer1, # set optimizer \n",
    "              loss='sparse_categorical_crossentropy', # set loss function\n",
    "              metrics=['accuracy'] # set metrics to monitor\n",
    "              ) \n",
    "# 3. Model fit\n",
    "history1 = model1.fit(x_train, y_train, epochs=10, batch_size=128) # training\n",
    "\n",
    "acc1 = history1.history['accuracy']\n",
    "loss1 = history1.history['loss']\n",
    "epochs1 = range(len(acc1))\n",
    "\n",
    "plt.plot(epochs1, acc1, 'b', label='Training acc')\n",
    "plt.plot(epochs1, loss1, 'r', label='Training loss')\n",
    "plt.title('Training & Validation accuracy lr=0.5')\n",
    "plt.legend()\n",
    "plt.show()\n",
    "\n",
    "# 4. Model evaluation\n",
    "eval1_train=model1.evaluate(x_train, y_train, verbose=0)\n",
    "eval1_test=model1.evaluate(x_test, y_test, verbose=0)"
   ]
  },
  {
   "cell_type": "code",
   "execution_count": 6,
   "id": "8d4dcfcc",
   "metadata": {},
   "outputs": [
    {
     "name": "stdout",
     "output_type": "stream",
     "text": [
      "Train on 60000 samples\n",
      "Epoch 1/10\n",
      "60000/60000 [==============================] - 2s 34us/sample - loss: 1.6132 - accuracy: 0.8881\n",
      "Epoch 2/10\n",
      "60000/60000 [==============================] - 2s 29us/sample - loss: 0.4214 - accuracy: 0.9207\n",
      "Epoch 3/10\n",
      "60000/60000 [==============================] - 1s 25us/sample - loss: 0.4121 - accuracy: 0.9228\n",
      "Epoch 4/10\n",
      "60000/60000 [==============================] - 1s 24us/sample - loss: 0.3842 - accuracy: 0.9299\n",
      "Epoch 5/10\n",
      "60000/60000 [==============================] - 1s 24us/sample - loss: 0.3775 - accuracy: 0.9320\n",
      "Epoch 6/10\n",
      "60000/60000 [==============================] - 1s 23us/sample - loss: 0.3970 - accuracy: 0.9285\n",
      "Epoch 7/10\n",
      "60000/60000 [==============================] - 2s 26us/sample - loss: 0.4698 - accuracy: 0.9200\n",
      "Epoch 8/10\n",
      "60000/60000 [==============================] - 1s 24us/sample - loss: 0.4090 - accuracy: 0.9266\n",
      "Epoch 9/10\n",
      "60000/60000 [==============================] - 1s 24us/sample - loss: 0.4677 - accuracy: 0.9218\n",
      "Epoch 10/10\n",
      "60000/60000 [==============================] - 2s 26us/sample - loss: 0.3956 - accuracy: 0.9300\n"
     ]
    },
    {
     "data": {
      "image/png": "[encoded data removed]",
      "text/plain": [
       "<Figure size 432x288 with 1 Axes>"
      ]
     },
     "metadata": {
      "needs_background": "light"
     },
     "output_type": "display_data"
    }
   ],
   "source": [
    "# Model2 : lr = 0.3\n",
    "\n",
    "\n",
    "# 1. Model Design\n",
    "model2 = tf.keras.models.Sequential([\n",
    "  tf.keras.layers.Flatten(), # input data transform: 1D array\n",
    "  tf.keras.layers.Dense(512, activation='relu', kernel_regularizer=tf.keras.regularizers.l2(0.01)), # set activation function\n",
    "#   tf.keras.layers.Dropout(0.2), # set dropout\n",
    "  tf.keras.layers.Dense(10, activation='softmax'), # set output layer\n",
    "\n",
    "])\n",
    "\n",
    "optimizer2 = tf.keras.optimizers.SGD(learning_rate=0.3)\n",
    "\n",
    "# 2. Model Compile\n",
    "model2.compile(optimizer=optimizer2, # set optimizer \n",
    "              loss='sparse_categorical_crossentropy', # set loss function\n",
    "              metrics=['accuracy'] # set metrics to monitor\n",
    "              ) \n",
    "# 3. Model fit\n",
    "history2 = model2.fit(x_train, y_train, epochs=10, batch_size=128) # training\n",
    "\n",
    "acc2 = history2.history['accuracy']\n",
    "loss2 = history2.history['loss']\n",
    "epochs2 = range(len(acc2))\n",
    "\n",
    "plt.plot(epochs2, acc2, 'b', label='Training acc')\n",
    "plt.plot(epochs2, loss2, 'r', label='Training loss')\n",
    "plt.title('Training & Validation accuracy lr=0.3')\n",
    "plt.legend()\n",
    "plt.show()\n",
    "\n",
    "# 4. Model evaluation\n",
    "eval2_train=model2.evaluate(x_train, y_train, verbose=0)\n",
    "eval2_test=model2.evaluate(x_test, y_test, verbose=0)"
   ]
  },
  {
   "cell_type": "code",
   "execution_count": 7,
   "id": "11c937bf",
   "metadata": {},
   "outputs": [
    {
     "name": "stdout",
     "output_type": "stream",
     "text": [
      "Train on 60000 samples\n",
      "Epoch 1/10\n",
      "60000/60000 [==============================] - 2s 27us/sample - loss: 0.4382 - accuracy: 0.8847\n",
      "Epoch 2/10\n",
      "60000/60000 [==============================] - 1s 21us/sample - loss: 0.2451 - accuracy: 0.9314\n",
      "Epoch 3/10\n",
      "60000/60000 [==============================] - 1s 21us/sample - loss: 0.1938 - accuracy: 0.9462\n",
      "Epoch 4/10\n",
      "60000/60000 [==============================] - 1s 20us/sample - loss: 0.1615 - accuracy: 0.9546\n",
      "Epoch 5/10\n",
      "60000/60000 [==============================] - 1s 19us/sample - loss: 0.1379 - accuracy: 0.9622\n",
      "Epoch 6/10\n",
      "60000/60000 [==============================] - 1s 19us/sample - loss: 0.1206 - accuracy: 0.9666\n",
      "Epoch 7/10\n",
      "60000/60000 [==============================] - 1s 19us/sample - loss: 0.1074 - accuracy: 0.9699\n",
      "Epoch 8/10\n",
      "60000/60000 [==============================] - 1s 20us/sample - loss: 0.0966 - accuracy: 0.9735\n",
      "Epoch 9/10\n",
      "60000/60000 [==============================] - 1s 20us/sample - loss: 0.0877 - accuracy: 0.9761\n",
      "Epoch 10/10\n",
      "60000/60000 [==============================] - 1s 20us/sample - loss: 0.0800 - accuracy: 0.9787\n"
     ]
    },
    {
     "data": {
      "image/png": "[encoded data removed]",
      "text/plain": [
       "<Figure size 432x288 with 1 Axes>"
      ]
     },
     "metadata": {
      "needs_background": "light"
     },
     "output_type": "display_data"
    }
   ],
   "source": [
    "# Model3 : lr = 0.1\n",
    "\n",
    "# 1. Model Design\n",
    "model3 = tf.keras.models.Sequential([\n",
    "  tf.keras.layers.Flatten(), # input data transform: 1D array\n",
    "  tf.keras.layers.Dense(512, activation='relu'), # set activation function\n",
    "#   tf.keras.layers.Dropout(0.2), # set dropout\n",
    "  tf.keras.layers.Dense(10, activation='softmax'), # set output layer\n",
    "\n",
    "])\n",
    "\n",
    "optimizer3 = tf.keras.optimizers.SGD(learning_rate=0.1)\n",
    "\n",
    "# 2. Model Compile\n",
    "model3.compile(optimizer=optimizer3, # set optimizer \n",
    "              loss='sparse_categorical_crossentropy', # set loss function\n",
    "              metrics=['accuracy'] # set metrics to monitor\n",
    "              ) \n",
    "# 3. Model fit\n",
    "history3 = model3.fit(x_train, y_train, epochs=10, batch_size=128) # training\n",
    "\n",
    "acc3 = history3.history['accuracy']\n",
    "loss3 = history3.history['loss']\n",
    "epochs3 = range(len(acc3))\n",
    "\n",
    "plt.plot(epochs3, acc3, 'b', label='Training acc')\n",
    "plt.plot(epochs3, loss3, 'r', label='Training loss')\n",
    "plt.title('Training & Validation accuracy lr=0.1')\n",
    "plt.legend()\n",
    "plt.show()\n",
    "\n",
    "# 4. Model evaluation\n",
    "eval3_train=model3.evaluate(x_train, y_train, verbose=0)\n",
    "eval3_test=model3.evaluate(x_test, y_test, verbose=0)"
   ]
  },
  {
   "cell_type": "code",
   "execution_count": 8,
   "id": "8cab2356",
   "metadata": {},
   "outputs": [
    {
     "name": "stdout",
     "output_type": "stream",
     "text": [
      "Train on 60000 samples\n",
      "Epoch 1/10\n",
      "60000/60000 [==============================] - 1s 23us/sample - loss: 0.5596 - accuracy: 0.8625\n",
      "Epoch 2/10\n",
      "60000/60000 [==============================] - 1s 21us/sample - loss: 0.3013 - accuracy: 0.9160\n",
      "Epoch 3/10\n",
      "60000/60000 [==============================] - 1s 19us/sample - loss: 0.2534 - accuracy: 0.9290\n",
      "Epoch 4/10\n",
      "60000/60000 [==============================] - 1s 20us/sample - loss: 0.2226 - accuracy: 0.9379\n",
      "Epoch 5/10\n",
      "60000/60000 [==============================] - 1s 20us/sample - loss: 0.1992 - accuracy: 0.9444\n",
      "Epoch 6/10\n",
      "60000/60000 [==============================] - 1s 19us/sample - loss: 0.1807 - accuracy: 0.9492\n",
      "Epoch 7/10\n",
      "60000/60000 [==============================] - 1s 19us/sample - loss: 0.1654 - accuracy: 0.9544\n",
      "Epoch 8/10\n",
      "60000/60000 [==============================] - 1s 20us/sample - loss: 0.1525 - accuracy: 0.9577\n",
      "Epoch 9/10\n",
      "60000/60000 [==============================] - 1s 20us/sample - loss: 0.1415 - accuracy: 0.9610\n",
      "Epoch 10/10\n",
      "60000/60000 [==============================] - 1s 21us/sample - loss: 0.1318 - accuracy: 0.9639\n"
     ]
    },
    {
     "data": {
      "image/png": "[encoded data removed]",
      "text/plain": [
       "<Figure size 432x288 with 1 Axes>"
      ]
     },
     "metadata": {
      "needs_background": "light"
     },
     "output_type": "display_data"
    }
   ],
   "source": [
    "# Model4 : lr = 0.05\n",
    "\n",
    "# 1. Model Design\n",
    "model4 = tf.keras.models.Sequential([\n",
    "  tf.keras.layers.Flatten(), # input data transform: 1D array\n",
    "  tf.keras.layers.Dense(512, activation='relu'), # set activation function\n",
    "#   tf.keras.layers.Dropout(0.2), # set dropout\n",
    "  tf.keras.layers.Dense(10, activation='softmax'), # set output layer\n",
    "\n",
    "])\n",
    "\n",
    "optimizer4 = tf.keras.optimizers.SGD(learning_rate=0.05)\n",
    "\n",
    "# 2. Model Compile\n",
    "model4.compile(optimizer=optimizer4, # set optimizer \n",
    "              loss='sparse_categorical_crossentropy', # set loss function\n",
    "              metrics=['accuracy'] # set metrics to monitor\n",
    "              ) \n",
    "# 3. Model fit\n",
    "history4 = model4.fit(x_train, y_train, epochs=10, batch_size=128) # training\n",
    "\n",
    "acc4 = history4.history['accuracy']\n",
    "loss4 = history4.history['loss']\n",
    "epochs4 = range(len(acc4))\n",
    "\n",
    "plt.plot(epochs4, acc4, 'b', label='Training acc')\n",
    "plt.plot(epochs4, loss4, 'r', label='Training loss')\n",
    "plt.title('Training & Validation accuracy lr=0.05')\n",
    "plt.legend()\n",
    "plt.show()\n",
    "\n",
    "# 4. Model evaluation\n",
    "eval4_train=model4.evaluate(x_train, y_train, verbose=0)\n",
    "eval4_test=model4.evaluate(x_test, y_test, verbose=0)"
   ]
  },
  {
   "cell_type": "code",
   "execution_count": 9,
   "id": "7fad3b18",
   "metadata": {},
   "outputs": [
    {
     "name": "stdout",
     "output_type": "stream",
     "text": [
      "Train on 60000 samples\n",
      "Epoch 1/10\n",
      "60000/60000 [==============================] - 1s 21us/sample - loss: 1.1070 - accuracy: 0.7535\n",
      "Epoch 2/10\n",
      "60000/60000 [==============================] - 1s 22us/sample - loss: 0.5269 - accuracy: 0.8719\n",
      "Epoch 3/10\n",
      "60000/60000 [==============================] - 1s 22us/sample - loss: 0.4248 - accuracy: 0.8892\n",
      "Epoch 4/10\n",
      "60000/60000 [==============================] - 1s 21us/sample - loss: 0.3783 - accuracy: 0.8985\n",
      "Epoch 5/10\n",
      "60000/60000 [==============================] - 1s 21us/sample - loss: 0.3496 - accuracy: 0.9040\n",
      "Epoch 6/10\n",
      "60000/60000 [==============================] - 1s 20us/sample - loss: 0.3293 - accuracy: 0.9091\n",
      "Epoch 7/10\n",
      "60000/60000 [==============================] - 1s 20us/sample - loss: 0.3135 - accuracy: 0.9132\n",
      "Epoch 8/10\n",
      "60000/60000 [==============================] - 1s 21us/sample - loss: 0.3004 - accuracy: 0.9168\n",
      "Epoch 9/10\n",
      "60000/60000 [==============================] - 1s 20us/sample - loss: 0.2890 - accuracy: 0.9196\n",
      "Epoch 10/10\n",
      "60000/60000 [==============================] - 1s 21us/sample - loss: 0.2790 - accuracy: 0.9224\n"
     ]
    },
    {
     "data": {
      "image/png": "[encoded data removed]",
      "text/plain": [
       "<Figure size 432x288 with 1 Axes>"
      ]
     },
     "metadata": {
      "needs_background": "light"
     },
     "output_type": "display_data"
    }
   ],
   "source": [
    "# Model53 : lr = 0.01\n",
    "\n",
    "# 1. Model Design\n",
    "model5 = tf.keras.models.Sequential([\n",
    "  tf.keras.layers.Flatten(), # input data transform: 1D array\n",
    "  tf.keras.layers.Dense(512, activation='relu'), # set activation function\n",
    "#   tf.keras.layers.Dropout(0.2), # set dropout\n",
    "  tf.keras.layers.Dense(10, activation='softmax'), # set output layer\n",
    "\n",
    "])\n",
    "\n",
    "optimizer5 = tf.keras.optimizers.SGD(learning_rate=0.01)\n",
    "\n",
    "# 2. Model Compile\n",
    "model5.compile(optimizer=optimizer5, # set optimizer \n",
    "              loss='sparse_categorical_crossentropy', # set loss function\n",
    "              metrics=['accuracy'] # set metrics to monitor\n",
    "              ) \n",
    "# 3. Model fit\n",
    "history5 = model5.fit(x_train, y_train, epochs=10, batch_size=128) # training\n",
    "\n",
    "acc5 = history5.history['accuracy']\n",
    "loss5 = history5.history['loss']\n",
    "epochs5 = range(len(acc5))\n",
    "\n",
    "plt.plot(epochs5, acc5, 'b', label='Training acc')\n",
    "plt.plot(epochs5, loss5, 'r', label='Training loss')\n",
    "plt.title('Training & Validation accuracy lr=0.01')\n",
    "plt.legend()\n",
    "plt.show()\n",
    "\n",
    "# 4. Model evaluation\n",
    "eval5_train=model5.evaluate(x_train, y_train, verbose=0)\n",
    "eval5_test=model5.evaluate(x_test, y_test, verbose=0)"
   ]
  },
  {
   "cell_type": "code",
   "execution_count": 10,
   "id": "e46a91d0",
   "metadata": {},
   "outputs": [
    {
     "data": {
      "image/png": "[encoded data removed]",
      "text/plain": [
       "<Figure size 432x288 with 1 Axes>"
      ]
     },
     "metadata": {
      "needs_background": "light"
     },
     "output_type": "display_data"
    }
   ],
   "source": [
    "plt.plot(epochs1, acc1, 'b', label='0.5')\n",
    "plt.plot(epochs2, acc2, 'r', label='0.3')\n",
    "plt.plot(epochs3, acc3, 'g', label='0.1')\n",
    "plt.plot(epochs4, acc4, 'c', label='0.05')\n",
    "plt.plot(epochs5, acc5, 'k', label='0.01')\n",
    "plt.title('Training accuracy')\n",
    "plt.legend()\n",
    "plt.show()"
   ]
  },
  {
   "cell_type": "code",
   "execution_count": 11,
   "id": "c75a7f80",
   "metadata": {},
   "outputs": [
    {
     "name": "stdout",
     "output_type": "stream",
     "text": [
      "  learning rate  Training accuracy  Test accuracy\n",
      "0           0.5           0.998400         0.9825\n",
      "1           0.3           0.935017         0.9351\n",
      "2           0.1           0.980650         0.9726\n",
      "3          0.05           0.965783         0.9612\n",
      "4          0.01           0.924017         0.9260\n"
     ]
    }
   ],
   "source": [
    "import pandas as pd\n",
    "\n",
    "data = [['0.5', eval1_train[1], eval1_test[1]],\n",
    "        ['0.3', eval2_train[1], eval2_test[1]],\n",
    "        ['0.1', eval3_train[1], eval3_test[1]],\n",
    "        ['0.05', eval4_train[1], eval4_test[1]],\n",
    "        ['0.01', eval5_train[1], eval5_test[1]]\n",
    "       ]\n",
    "        \n",
    "df=pd.DataFrame(data, columns= ['learning rate','Training accuracy', 'Test accuracy'])\n",
    "print(df)"
   ]
  },
  {
   "cell_type": "code",
   "execution_count": 12,
   "id": "8b08dfcc",
   "metadata": {},
   "outputs": [
    {
     "name": "stdout",
     "output_type": "stream",
     "text": [
      "Train on 60000 samples\n",
      "Epoch 1/30\n",
      "60000/60000 [==============================] - 2s 26us/sample - loss: 0.2901 - accuracy: 0.9141\n",
      "Epoch 2/30\n",
      "60000/60000 [==============================] - 1s 24us/sample - loss: 0.1263 - accuracy: 0.9636\n",
      "Epoch 3/30\n",
      "60000/60000 [==============================] - 2s 26us/sample - loss: 0.0899 - accuracy: 0.9728\n",
      "Epoch 4/30\n",
      "60000/60000 [==============================] - 2s 25us/sample - loss: 0.0726 - accuracy: 0.9787\n",
      "Epoch 5/30\n",
      "60000/60000 [==============================] - 1s 24us/sample - loss: 0.0612 - accuracy: 0.9820\n",
      "Epoch 6/30\n",
      "60000/60000 [==============================] - 1s 23us/sample - loss: 0.0490 - accuracy: 0.9852\n",
      "Epoch 7/30\n",
      "60000/60000 [==============================] - 1s 23us/sample - loss: 0.0435 - accuracy: 0.9873\n",
      "Epoch 8/30\n",
      "60000/60000 [==============================] - 1s 24us/sample - loss: 0.0368 - accuracy: 0.9890\n",
      "Epoch 9/30\n",
      "60000/60000 [==============================] - 1s 24us/sample - loss: 0.0329 - accuracy: 0.9899\n",
      "Epoch 10/30\n",
      "60000/60000 [==============================] - 1s 24us/sample - loss: 0.0284 - accuracy: 0.9921\n",
      "Epoch 11/30\n",
      "60000/60000 [==============================] - 2s 25us/sample - loss: 0.0248 - accuracy: 0.9929\n",
      "Epoch 12/30\n",
      "60000/60000 [==============================] - 1s 25us/sample - loss: 0.0219 - accuracy: 0.9936\n",
      "Epoch 13/30\n",
      "60000/60000 [==============================] - 2s 25us/sample - loss: 0.0198 - accuracy: 0.9946\n",
      "Epoch 14/30\n",
      "60000/60000 [==============================] - 2s 27us/sample - loss: 0.0171 - accuracy: 0.9955\n",
      "Epoch 15/30\n",
      "60000/60000 [==============================] - 2s 26us/sample - loss: 0.0164 - accuracy: 0.9957\n",
      "Epoch 16/30\n",
      "60000/60000 [==============================] - 2s 26us/sample - loss: 0.0145 - accuracy: 0.9962\n",
      "Epoch 17/30\n",
      "60000/60000 [==============================] - 2s 25us/sample - loss: 0.0132 - accuracy: 0.9967\n",
      "Epoch 18/30\n",
      "60000/60000 [==============================] - 1s 24us/sample - loss: 0.0122 - accuracy: 0.9969\n",
      "Epoch 19/30\n",
      "60000/60000 [==============================] - 1s 24us/sample - loss: 0.0104 - accuracy: 0.9978\n",
      "Epoch 20/30\n",
      "60000/60000 [==============================] - 1s 24us/sample - loss: 0.0099 - accuracy: 0.9978\n",
      "Epoch 21/30\n",
      "60000/60000 [==============================] - 1s 24us/sample - loss: 0.0100 - accuracy: 0.9977\n",
      "Epoch 22/30\n",
      "60000/60000 [==============================] - 1s 24us/sample - loss: 0.0088 - accuracy: 0.9980\n",
      "Epoch 23/30\n",
      "60000/60000 [==============================] - 1s 23us/sample - loss: 0.0083 - accuracy: 0.9980\n",
      "Epoch 24/30\n",
      "60000/60000 [==============================] - 1s 23us/sample - loss: 0.0075 - accuracy: 0.9985\n",
      "Epoch 25/30\n",
      "60000/60000 [==============================] - 2s 26us/sample - loss: 0.0071 - accuracy: 0.9985\n",
      "Epoch 26/30\n",
      "60000/60000 [==============================] - 2s 26us/sample - loss: 0.0068 - accuracy: 0.9987\n",
      "Epoch 27/30\n",
      "60000/60000 [==============================] - 1s 24us/sample - loss: 0.0066 - accuracy: 0.9987\n",
      "Epoch 28/30\n",
      "60000/60000 [==============================] - 1s 24us/sample - loss: 0.0060 - accuracy: 0.9990\n",
      "Epoch 29/30\n",
      "60000/60000 [==============================] - 1s 24us/sample - loss: 0.0053 - accuracy: 0.9991\n",
      "Epoch 30/30\n",
      "60000/60000 [==============================] - 2s 25us/sample - loss: 0.0052 - accuracy: 0.9990\n"
     ]
    },
    {
     "data": {
      "image/png": "[encoded data removed]",
      "text/plain": [
       "<Figure size 432x288 with 1 Axes>"
      ]
     },
     "metadata": {
      "needs_background": "light"
     },
     "output_type": "display_data"
    },
    {
     "name": "stdout",
     "output_type": "stream",
     "text": [
      "[0.0016009220173769183, 0.99993336] [0.056606346476424735, 0.9839]\n",
      "Model: \"sequential_5\"\n",
      "_________________________________________________________________\n",
      "Layer (type)                 Output Shape              Param #   \n",
      "=================================================================\n",
      "flatten_5 (Flatten)          multiple                  0         \n",
      "_________________________________________________________________\n",
      "dense_10 (Dense)             multiple                  401920    \n",
      "_________________________________________________________________\n",
      "dropout (Dropout)            multiple                  0         \n",
      "_________________________________________________________________\n",
      "dense_11 (Dense)             multiple                  5130      \n",
      "=================================================================\n",
      "Total params: 407,050\n",
      "Trainable params: 407,050\n",
      "Non-trainable params: 0\n",
      "_________________________________________________________________\n"
     ]
    }
   ],
   "source": [
    "#best1\n",
    "# Model1 : lr = 0.5, dropout = 0.2, epoch = 30\n",
    "\n",
    "# 1. Model Design\n",
    "model1 = tf.keras.models.Sequential([\n",
    "  tf.keras.layers.Flatten(), # input data transform: 1D array\n",
    "  tf.keras.layers.Dense(512, activation='relu'), # set activation function\n",
    "  tf.keras.layers.Dropout(0.2), # set dropout\n",
    "  tf.keras.layers.Dense(10, activation='softmax'), # set output layer\n",
    "\n",
    "])\n",
    "\n",
    "optimizer1 = tf.keras.optimizers.SGD(learning_rate=0.5)\n",
    "\n",
    "# 2. Model Compile\n",
    "model1.compile(optimizer=optimizer1, # set optimizer \n",
    "              loss='sparse_categorical_crossentropy', # set loss function\n",
    "              metrics=['accuracy'] # set metrics to monitor\n",
    "              ) \n",
    "# 3. Model fit\n",
    "history1 = model1.fit(x_train, y_train, epochs=30, batch_size=128) # training\n",
    "\n",
    "acc1 = history1.history['accuracy']\n",
    "loss1 = history1.history['loss']\n",
    "epochs1 = range(len(acc1))\n",
    "\n",
    "plt.plot(epochs1, acc1, 'b', label='Training acc')\n",
    "plt.plot(epochs1, loss1, 'r', label='Training loss')\n",
    "plt.title('Training & Validation accuracy lr=0.5')\n",
    "plt.legend()\n",
    "plt.show()\n",
    "\n",
    "# 4. Model evaluation\n",
    "eval1_train=model1.evaluate(x_train, y_train, verbose=0)\n",
    "eval1_test=model1.evaluate(x_test, y_test, verbose=0)\n",
    "print(eval1_train, eval1_test)\n",
    "\n",
    "model1.summary()"
   ]
  },
  {
   "cell_type": "code",
   "execution_count": null,
   "id": "a40b800b",
   "metadata": {},
   "outputs": [],
   "source": []
  },
  {
   "cell_type": "code",
   "execution_count": 16,
   "id": "0aa75d79",
   "metadata": {},
   "outputs": [],
   "source": [
    "# learning_rate 조절하는 법 추가\n",
    "# 또?.?\n",
    "\n",
    "# 조절하는 파라미터 또는 하이퍼파라미터\n",
    "# 1. learning rate\n",
    "# 2. activation function, momentum\n",
    "# 3. lossfunction\n",
    "# 4. Regularization\n",
    "# 4-1. L2, L1\n",
    "# 4-2. Dropout\n",
    "# 4-3. Data augmentation\n",
    "# 5. Early stop\n",
    "# 6. Weight/bias initialization\n",
    "# 7. Hidden layer num, node num"
   ]
  },
  {
   "cell_type": "code",
   "execution_count": 14,
   "id": "650e27eb",
   "metadata": {
    "scrolled": false
   },
   "outputs": [
    {
     "name": "stdout",
     "output_type": "stream",
     "text": [
      "Train on 60000 samples\n",
      "Epoch 1/15\n",
      "60000/60000 [==============================] - 2s 27us/sample - loss: 0.2901 - accuracy: 0.9138\n",
      "Epoch 2/15\n",
      "60000/60000 [==============================] - 1s 25us/sample - loss: 0.1280 - accuracy: 0.9621\n",
      "Epoch 3/15\n",
      "60000/60000 [==============================] - 1s 24us/sample - loss: 0.0914 - accuracy: 0.9726\n",
      "Epoch 4/15\n",
      "60000/60000 [==============================] - 1s 23us/sample - loss: 0.0720 - accuracy: 0.9785\n",
      "Epoch 5/15\n",
      "60000/60000 [==============================] - 1s 24us/sample - loss: 0.0606 - accuracy: 0.9820\n",
      "Epoch 6/15\n",
      "60000/60000 [==============================] - 1s 24us/sample - loss: 0.0495 - accuracy: 0.9852\n",
      "Epoch 7/15\n",
      "60000/60000 [==============================] - 1s 25us/sample - loss: 0.0436 - accuracy: 0.9872\n",
      "Epoch 8/15\n",
      "60000/60000 [==============================] - 1s 25us/sample - loss: 0.0369 - accuracy: 0.9893\n",
      "Epoch 9/15\n",
      "60000/60000 [==============================] - 2s 29us/sample - loss: 0.0322 - accuracy: 0.9904\n",
      "Epoch 10/15\n",
      "60000/60000 [==============================] - 2s 27us/sample - loss: 0.0281 - accuracy: 0.9920\n",
      "Epoch 11/15\n",
      "60000/60000 [==============================] - 2s 25us/sample - loss: 0.0248 - accuracy: 0.9928\n",
      "Epoch 12/15\n",
      "60000/60000 [==============================] - 1s 24us/sample - loss: 0.0221 - accuracy: 0.9940\n",
      "Epoch 13/15\n",
      "60000/60000 [==============================] - 1s 24us/sample - loss: 0.0186 - accuracy: 0.9951\n",
      "Epoch 14/15\n",
      "60000/60000 [==============================] - 1s 24us/sample - loss: 0.0180 - accuracy: 0.9953\n",
      "Epoch 15/15\n",
      "60000/60000 [==============================] - 2s 25us/sample - loss: 0.0167 - accuracy: 0.9953\n"
     ]
    },
    {
     "data": {
      "image/png": "[encoded data removed]",
      "text/plain": [
       "<Figure size 432x288 with 1 Axes>"
      ]
     },
     "metadata": {
      "needs_background": "light"
     },
     "output_type": "display_data"
    },
    {
     "name": "stdout",
     "output_type": "stream",
     "text": [
      "[0.00890445350309407, 0.9986167] [0.05525936975964578, 0.9841]\n",
      "Model: \"sequential_6\"\n",
      "_________________________________________________________________\n",
      "Layer (type)                 Output Shape              Param #   \n",
      "=================================================================\n",
      "flatten_6 (Flatten)          multiple                  0         \n",
      "_________________________________________________________________\n",
      "dense_12 (Dense)             multiple                  401920    \n",
      "_________________________________________________________________\n",
      "dropout_1 (Dropout)          multiple                  0         \n",
      "_________________________________________________________________\n",
      "dense_13 (Dense)             multiple                  5130      \n",
      "=================================================================\n",
      "Total params: 407,050\n",
      "Trainable params: 407,050\n",
      "Non-trainable params: 0\n",
      "_________________________________________________________________\n"
     ]
    }
   ],
   "source": [
    "#best2\n",
    "# Model1 : lr = 0.5, dropout = 0.2, epoch = 15\n",
    "\n",
    "# 1. Model Design\n",
    "model1 = tf.keras.models.Sequential([\n",
    "  tf.keras.layers.Flatten(), # input data transform: 1D array\n",
    "  tf.keras.layers.Dense(512, activation='relu'), # set activation function\n",
    "  tf.keras.layers.Dropout(0.2), # set dropout\n",
    "  tf.keras.layers.Dense(10, activation='softmax'), # set output layer\n",
    "\n",
    "])\n",
    "\n",
    "optimizer1 = tf.keras.optimizers.SGD(learning_rate=0.5)\n",
    "\n",
    "# 2. Model Compile\n",
    "model1.compile(optimizer=optimizer1, # set optimizer \n",
    "              loss='sparse_categorical_crossentropy', # set loss function\n",
    "              metrics=['accuracy'] # set metrics to monitor\n",
    "              ) \n",
    "# 3. Model fit\n",
    "history1 = model1.fit(x_train, y_train, epochs=15, batch_size=128) # training\n",
    "\n",
    "acc1 = history1.history['accuracy']\n",
    "loss1 = history1.history['loss']\n",
    "epochs1 = range(len(acc1))\n",
    "\n",
    "plt.plot(epochs1, acc1, 'b', label='Training acc')\n",
    "plt.plot(epochs1, loss1, 'r', label='Training loss')\n",
    "plt.title('Training & Validation accuracy lr=0.5')\n",
    "plt.legend()\n",
    "plt.show()\n",
    "\n",
    "# 4. Model evaluation\n",
    "eval1_train=model1.evaluate(x_train, y_train, verbose=0)\n",
    "eval1_test=model1.evaluate(x_test, y_test, verbose=0)\n",
    "print(eval1_train, eval1_test)\n",
    "\n",
    "model1.summary()"
   ]
  },
  {
   "cell_type": "code",
   "execution_count": 15,
   "id": "83ee6411",
   "metadata": {},
   "outputs": [
    {
     "name": "stdout",
     "output_type": "stream",
     "text": [
      "Train on 60000 samples\n",
      "Epoch 1/10\n",
      "60000/60000 [==============================] - 2s 29us/sample - loss: 0.2877 - accuracy: 0.9148\n",
      "Epoch 2/10\n",
      "60000/60000 [==============================] - 2s 27us/sample - loss: 0.1256 - accuracy: 0.9633\n",
      "Epoch 3/10\n",
      "60000/60000 [==============================] - 2s 26us/sample - loss: 0.0900 - accuracy: 0.9730\n",
      "Epoch 4/10\n",
      "60000/60000 [==============================] - 2s 26us/sample - loss: 0.0722 - accuracy: 0.9787\n",
      "Epoch 5/10\n",
      "60000/60000 [==============================] - 2s 26us/sample - loss: 0.0596 - accuracy: 0.9828\n",
      "Epoch 6/10\n",
      "60000/60000 [==============================] - 1s 24us/sample - loss: 0.0496 - accuracy: 0.9853\n",
      "Epoch 7/10\n",
      "60000/60000 [==============================] - 1s 24us/sample - loss: 0.0423 - accuracy: 0.9875\n",
      "Epoch 8/10\n",
      "60000/60000 [==============================] - 1s 24us/sample - loss: 0.0368 - accuracy: 0.9893\n",
      "Epoch 9/10\n",
      "60000/60000 [==============================] - 1s 24us/sample - loss: 0.0314 - accuracy: 0.9906\n",
      "Epoch 10/10\n",
      "60000/60000 [==============================] - 1s 24us/sample - loss: 0.0279 - accuracy: 0.9922\n"
     ]
    },
    {
     "data": {
      "image/png": "[encoded data removed]",
      "text/plain": [
       "<Figure size 432x288 with 1 Axes>"
      ]
     },
     "metadata": {
      "needs_background": "light"
     },
     "output_type": "display_data"
    },
    {
     "name": "stdout",
     "output_type": "stream",
     "text": [
      "[0.017399295339155164, 0.99591666] [0.05723292792573338, 0.9819]\n",
      "Model: \"sequential_7\"\n",
      "_________________________________________________________________\n",
      "Layer (type)                 Output Shape              Param #   \n",
      "=================================================================\n",
      "flatten_7 (Flatten)          multiple                  0         \n",
      "_________________________________________________________________\n",
      "dense_14 (Dense)             multiple                  401920    \n",
      "_________________________________________________________________\n",
      "dropout_2 (Dropout)          multiple                  0         \n",
      "_________________________________________________________________\n",
      "dense_15 (Dense)             multiple                  5130      \n",
      "=================================================================\n",
      "Total params: 407,050\n",
      "Trainable params: 407,050\n",
      "Non-trainable params: 0\n",
      "_________________________________________________________________\n"
     ]
    }
   ],
   "source": [
    "#best3\n",
    "# Model1 : lr = 0.5, dropout = 0.2, epoch = 10\n",
    "\n",
    "# 1. Model Design\n",
    "model1 = tf.keras.models.Sequential([\n",
    "  tf.keras.layers.Flatten(), # input data transform: 1D array\n",
    "  tf.keras.layers.Dense(512, activation='relu'), # set activation function\n",
    "  tf.keras.layers.Dropout(0.2), # set dropout\n",
    "  tf.keras.layers.Dense(10, activation='softmax'), # set output layer\n",
    "\n",
    "])\n",
    "\n",
    "optimizer1 = tf.keras.optimizers.SGD(learning_rate=0.5)\n",
    "\n",
    "# 2. Model Compile\n",
    "model1.compile(optimizer=optimizer1, # set optimizer \n",
    "              loss='sparse_categorical_crossentropy', # set loss function\n",
    "              metrics=['accuracy'] # set metrics to monitor\n",
    "              ) \n",
    "# 3. Model fit\n",
    "history1 = model1.fit(x_train, y_train, epochs=10, batch_size=128) # training\n",
    "\n",
    "acc1 = history1.history['accuracy']\n",
    "loss1 = history1.history['loss']\n",
    "epochs1 = range(len(acc1))\n",
    "\n",
    "plt.plot(epochs1, acc1, 'b', label='Training acc')\n",
    "plt.plot(epochs1, loss1, 'r', label='Training loss')\n",
    "plt.title('Training & Validation accuracy lr=0.5')\n",
    "plt.legend()\n",
    "plt.show()\n",
    "\n",
    "# 4. Model evaluation\n",
    "eval1_train=model1.evaluate(x_train, y_train, verbose=0)\n",
    "eval1_test=model1.evaluate(x_test, y_test, verbose=0)\n",
    "print(eval1_train, eval1_test)\n",
    "\n",
    "model1.summary()"
   ]
  },
  {
   "cell_type": "code",
   "execution_count": null,
   "id": "53e03e28",
   "metadata": {},
   "outputs": [],
   "source": []
  }
 ],
 "metadata": {
  "kernelspec": {
   "display_name": "Python 3",
   "language": "python",
   "name": "python3"
  },
  "language_info": {
   "codemirror_mode": {
    "name": "ipython",
    "version": 3
   },
   "file_extension": ".py",
   "mimetype": "text/x-python",
   "name": "python",
   "nbconvert_exporter": "python",
   "pygments_lexer": "ipython3",
   "version": "3.7.11"
  }
 },
 "nbformat": 4,
 "nbformat_minor": 5
}
