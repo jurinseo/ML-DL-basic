{
 "cells": [
  {
   "cell_type": "code",
   "execution_count": 1,
   "id": "4472440d",
   "metadata": {},
   "outputs": [],
   "source": [
    "import numpy as np\n",
    "import tensorflow as tf\n",
    "import matplotlib.pyplot as plt\n",
    "%matplotlib inline\n",
    "tf.random.set_seed(55)"
   ]
  },
  {
   "cell_type": "code",
   "execution_count": 3,
   "id": "94ba6e0a",
   "metadata": {},
   "outputs": [
    {
     "data": {
      "image/png": "[encoded data removed]",
      "text/plain": [
       "<Figure size 432x288 with 1 Axes>"
      ]
     },
     "metadata": {
      "needs_background": "light"
     },
     "output_type": "display_data"
    }
   ],
   "source": [
    "xy = np.array([[828.659973, 833.450012, 908100, 828.349976, 831.659973],\n",
    "               [823.02002, 828.070007, 1828100, 821.655029, 828.070007],\n",
    "               [819.929993, 824.400024, 1438100, 818.97998, 824.159973],\n",
    "               [816, 820.958984, 1008100, 815.48999, 819.23999],\n",
    "               [819.359985, 823, 1188100, 818.469971, 818.97998],\n",
    "               [819, 823, 1198100, 816, 820.450012],\n",
    "               [811.700012, 815.25, 1098100, 809.780029, 813.669983],\n",
    "               [809.51001, 816.659973, 1398100, 804.539978, 809.559998]])\n",
    "from sklearn.preprocessing import MinMaxScaler\n",
    "scaler = MinMaxScaler()\n",
    "xy_scaled = scaler.fit_transform(xy)\n",
    "x_train_n = xy_scaled[:, 0:-1]\n",
    "y_train_n = xy_scaled[:, [-1]]\n",
    "plt.plot(x_train_n, 'ro')\n",
    "plt.plot(y_train_n)\n",
    "plt.show()\n",
    "x_train_n = np.asarray(x_train_n, dtype = np.float32)\n",
    "y_train_n = np.asarray(y_train_n, dtype = np.float32)"
   ]
  },
  {
   "cell_type": "code",
   "execution_count": 5,
   "id": "1862d195",
   "metadata": {},
   "outputs": [],
   "source": [
    "num_classes = 1\n",
    "\n",
    "W = tf.Variable(tf.random.normal([x_train_n.shape[1], num_classes]), name='weight')\n",
    "b = tf.Variable(tf.random.normal([num_classes]), name='bias')"
   ]
  },
  {
   "cell_type": "code",
   "execution_count": 6,
   "id": "b78d0dc6",
   "metadata": {},
   "outputs": [],
   "source": [
    "def hypothesis(X):\n",
    "    return tf.matmul(X, W)+ b\n",
    "\n",
    "def cost_fn(X, Y):\n",
    "    return tf.reduce_mean(tf.square(hypothesis(X) - Y))\n",
    "\n",
    "def grad(X, Y):\n",
    "    with tf.GradientTape() as tape:\n",
    "        loss_value = cost_fn(X, Y)\n",
    "        return tape.gradient(loss_value, [W, b])\n",
    "\n",
    "def accuracy_fn(X, Y):\n",
    "    pred = tf.argmax(hypothesis(X), 1)\n",
    "    is_correct = tf.equal(pred, tf.argmax(Y, 1))\n",
    "    accuracy = tf.reduce_mean(tf.cast(is_correct, tf.float32))\n",
    "    return accuracy"
   ]
  },
  {
   "cell_type": "code",
   "execution_count": 11,
   "id": "cc98d7d3",
   "metadata": {},
   "outputs": [],
   "source": [
    "epoch = []\n",
    "cost = []\n",
    "acc = []\n",
    "def fit(X, Y, epochs=1000, verbose=50, learning_rate=0.001):\n",
    "    optimizer = tf.keras.optimizers.SGD(learning_rate)\n",
    "    \n",
    "    for i in range(epochs):\n",
    "        grads = grad(X, Y)\n",
    "        optimizer.apply_gradients(zip(grads, [W, b]))\n",
    "        epoch.append(i)\n",
    "        cost.append(cost_fn(X,Y).numpy())\n",
    "        acc.append(accuracy_fn(X,Y).numpy())\n",
    "        if (i == 0) | ((i+1) % verbose == 0):\n",
    "            print('epoch: {}, cost: {:.4f}'.format(i+1, cost_fn(X, Y).numpy()))"
   ]
  },
  {
   "cell_type": "code",
   "execution_count": 12,
   "id": "34ff473f",
   "metadata": {},
   "outputs": [
    {
     "name": "stdout",
     "output_type": "stream",
     "text": [
      "epoch: 1, cost: 7.2526\n",
      "epoch: 50, cost: 5.2434\n",
      "epoch: 100, cost: 3.8349\n",
      "epoch: 150, cost: 2.8697\n",
      "epoch: 200, cost: 2.2068\n",
      "epoch: 250, cost: 1.7502\n",
      "epoch: 300, cost: 1.4343\n",
      "epoch: 350, cost: 1.2145\n",
      "epoch: 400, cost: 1.0602\n",
      "epoch: 450, cost: 0.9507\n",
      "epoch: 500, cost: 0.8719\n",
      "epoch: 550, cost: 0.8141\n",
      "epoch: 600, cost: 0.7706\n",
      "epoch: 650, cost: 0.7371\n",
      "epoch: 700, cost: 0.7104\n",
      "epoch: 750, cost: 0.6884\n",
      "epoch: 800, cost: 0.6698\n",
      "epoch: 850, cost: 0.6535\n",
      "epoch: 900, cost: 0.6389\n",
      "epoch: 950, cost: 0.6255\n",
      "epoch: 1000, cost: 0.6130\n"
     ]
    }
   ],
   "source": [
    "fit(x_train_n, y_train_n)"
   ]
  },
  {
   "cell_type": "code",
   "execution_count": 13,
   "id": "32ffa89d",
   "metadata": {},
   "outputs": [
    {
     "data": {
      "image/png": "[encoded data removed]",
      "text/plain": [
       "<Figure size 576x432 with 1 Axes>"
      ]
     },
     "metadata": {
      "needs_background": "light"
     },
     "output_type": "display_data"
    }
   ],
   "source": [
    "plt.rcParams[\"figure.figsize\"] = (8,6)\n",
    "plt.plot(epoch, cost, \"b\")\n",
    "plt.xlabel(\"epoch\")\n",
    "plt.ylabel(\"cost\")\n",
    "plt.show()"
   ]
  },
  {
   "cell_type": "code",
   "execution_count": null,
   "id": "1567f188",
   "metadata": {},
   "outputs": [],
   "source": []
  }
 ],
 "metadata": {
  "jupytext": {
   "formats": "ipynb,auto:light"
  },
  "kernelspec": {
   "display_name": "Python 3",
   "language": "python",
   "name": "python3"
  },
  "language_info": {
   "codemirror_mode": {
    "name": "ipython",
    "version": 3
   },
   "file_extension": ".py",
   "mimetype": "text/x-python",
   "name": "python",
   "nbconvert_exporter": "python",
   "pygments_lexer": "ipython3",
   "version": "3.7.11"
  }
 },
 "nbformat": 4,
 "nbformat_minor": 5
}
