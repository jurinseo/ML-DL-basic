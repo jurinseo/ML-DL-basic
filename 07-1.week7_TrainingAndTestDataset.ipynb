{
 "cells": [
  {
   "cell_type": "code",
   "execution_count": 112,
   "id": "fa40999e",
   "metadata": {},
   "outputs": [],
   "source": [
    "import numpy as np\n",
    "import tensorflow as tf\n",
    "import matplotlib.pyplot as plt\n",
    "tf.random.set_seed(0)"
   ]
  },
  {
   "cell_type": "code",
   "execution_count": 113,
   "id": "88a94ada",
   "metadata": {},
   "outputs": [],
   "source": [
    "x_train = [[1, 2, 1],\n",
    "          [1, 3, 2],\n",
    "          [1, 3, 4],\n",
    "          [1, 5, 5],\n",
    "          [1, 7, 5],\n",
    "          [1, 2, 5],\n",
    "          [1, 6, 6],\n",
    "          [1, 7, 7]]\n",
    "\n",
    "y_train = [[0, 0, 1],\n",
    "          [0, 0, 1],\n",
    "          [0, 0, 1],\n",
    "          [0, 1, 0],\n",
    "          [0, 1, 0],\n",
    "          [0, 1, 0],\n",
    "          [1, 0, 0],\n",
    "          [1, 0, 0]]\n",
    "\n",
    "x_test = [[2, 1, 1],\n",
    "          [3, 1, 2],\n",
    "          [3, 3, 4]]\n",
    "y_test = [[0, 0, 1],\n",
    "          [0, 0, 1],\n",
    "          [0, 0, 1]]"
   ]
  },
  {
   "cell_type": "code",
   "execution_count": 114,
   "id": "9c5cc4a4",
   "metadata": {},
   "outputs": [
    {
     "name": "stdout",
     "output_type": "stream",
     "text": [
      "(8, 3) (8, 3)\n"
     ]
    }
   ],
   "source": [
    "x_train = np.asarray(x_train, dtype = np.float32)\n",
    "y_train = np.asarray(y_train, dtype = np.float32)\n",
    "\n",
    "print(x_train.shape, y_train.shape)\n",
    "\n",
    "# dataset = tf.data.Dataset.from_tensor_slices((x_train, y_train)).batch(len(x_train))\n",
    "nb_classes = x_train.shape[1]"
   ]
  },
  {
   "cell_type": "code",
   "execution_count": 115,
   "id": "a1f2978d",
   "metadata": {},
   "outputs": [
    {
     "name": "stdout",
     "output_type": "stream",
     "text": [
      "<tf.Variable 'weight:0' shape=(3, 3) dtype=float32, numpy=\n",
      "array([[ 1.5110626 ,  0.42292204, -0.41969493],\n",
      "       [-1.0360372 , -1.2368279 ,  0.47027302],\n",
      "       [-0.01397489,  1.1888583 ,  0.60253334]], dtype=float32)> <tf.Variable 'bias:0' shape=(3,) dtype=float32, numpy=array([ 1.0668802 ,  0.19454929, -0.53082895], dtype=float32)>\n"
     ]
    }
   ],
   "source": [
    "W = tf.Variable(tf.random.normal([3, nb_classes]), name='weight')\n",
    "b = tf.Variable(tf.random.normal([nb_classes]), name='bias')\n",
    "variables = [W, b]\n",
    "print(W, b)"
   ]
  },
  {
   "cell_type": "code",
   "execution_count": 116,
   "id": "e4bc5d83",
   "metadata": {},
   "outputs": [],
   "source": [
    "def hypothesis(X):\n",
    "    return tf.nn.softmax(tf.matmul(X, W) + b)\n",
    "\n",
    "\n",
    "def cost_fn(X, Y):\n",
    "    return tf.reduce_mean(-tf.reduce_sum(Y * tf.math.log(hypothesis(X)), axis=1))\n",
    "\n",
    "def grad(X, Y):\n",
    "    with tf.GradientTape() as tape:\n",
    "        loss_value = cost_fn(X, Y)\n",
    "        return tape.gradient(loss_value, [W, b])\n",
    "\n",
    "def accuracy_fn(X, Y):\n",
    "    pred = tf.argmax(hypothesis(X), 1)\n",
    "    is_correct = tf.equal(pred, tf.argmax(Y, 1))\n",
    "    accuracy = tf.reduce_mean(tf.cast(is_correct, tf.float32))\n",
    "    return accuracy\n",
    "\n",
    "\n"
   ]
  },
  {
   "cell_type": "code",
   "execution_count": 129,
   "id": "d4290d99",
   "metadata": {},
   "outputs": [],
   "source": [
    "epoch = []\n",
    "cost = []\n",
    "acc = []\n",
    "def fit(X, Y, epochs=1000, verbose=50, learning_rate=0.05):\n",
    "    optimizer = tf.keras.optimizers.SGD(learning_rate)\n",
    "    \n",
    "    for i in range(epochs):\n",
    "        grads = grad(X, Y)\n",
    "        optimizer.apply_gradients(zip(grads, [W, b]))\n",
    "        epoch.append(i)\n",
    "        cost.append(cost_fn(X,Y).numpy())\n",
    "        acc.append(accuracy_fn(X,Y).numpy())\n",
    "        if (i == 0) | ((i+1) % verbose == 0):\n",
    "            print('epoch: {}, cost: {:.4f}, accuracy: {:.4f}'.format(i+1, cost_fn(X, Y).numpy(), accuracy_fn(X, Y)))"
   ]
  },
  {
   "cell_type": "code",
   "execution_count": 130,
   "id": "ce662f2c",
   "metadata": {},
   "outputs": [
    {
     "name": "stdout",
     "output_type": "stream",
     "text": [
      "epoch: 1, cost: 0.8118, accuracy: 0.5000\n",
      "epoch: 50, cost: 0.7513, accuracy: 0.6250\n",
      "epoch: 100, cost: 0.7062, accuracy: 0.6250\n",
      "epoch: 150, cost: 0.6716, accuracy: 0.6250\n",
      "epoch: 200, cost: 0.6440, accuracy: 0.6250\n",
      "epoch: 250, cost: 0.6210, accuracy: 0.7500\n",
      "epoch: 300, cost: 0.6013, accuracy: 0.7500\n",
      "epoch: 350, cost: 0.5841, accuracy: 0.7500\n",
      "epoch: 400, cost: 0.5688, accuracy: 0.7500\n",
      "epoch: 450, cost: 0.5550, accuracy: 0.8750\n",
      "epoch: 500, cost: 0.5425, accuracy: 0.8750\n",
      "epoch: 550, cost: 0.5309, accuracy: 0.8750\n",
      "epoch: 600, cost: 0.5202, accuracy: 0.8750\n",
      "epoch: 650, cost: 0.5102, accuracy: 0.8750\n",
      "epoch: 700, cost: 0.5008, accuracy: 0.8750\n",
      "epoch: 750, cost: 0.4920, accuracy: 1.0000\n",
      "epoch: 800, cost: 0.4837, accuracy: 1.0000\n",
      "epoch: 850, cost: 0.4758, accuracy: 1.0000\n",
      "epoch: 900, cost: 0.4683, accuracy: 1.0000\n",
      "epoch: 950, cost: 0.4611, accuracy: 1.0000\n",
      "epoch: 1000, cost: 0.4543, accuracy: 1.0000\n"
     ]
    }
   ],
   "source": [
    "fit(x_train, y_train)"
   ]
  },
  {
   "cell_type": "code",
   "execution_count": 131,
   "id": "838924fd",
   "metadata": {},
   "outputs": [
    {
     "data": {
      "image/png": "[encoded data removed]",
      "text/plain": [
       "<Figure size 576x432 with 1 Axes>"
      ]
     },
     "metadata": {
      "needs_background": "light"
     },
     "output_type": "display_data"
    }
   ],
   "source": [
    "plt.rcParams[\"figure.figsize\"] = (8,6)\n",
    "plt.plot(epoch, cost, \"b\")\n",
    "plt.xlabel(\"epoch\")\n",
    "plt.ylabel(\"cost\")\n",
    "plt.show()"
   ]
  },
  {
   "cell_type": "code",
   "execution_count": 132,
   "id": "d679c45b",
   "metadata": {},
   "outputs": [
    {
     "data": {
      "image/png": "[encoded data removed]",
      "text/plain": [
       "<Figure size 576x432 with 1 Axes>"
      ]
     },
     "metadata": {
      "needs_background": "light"
     },
     "output_type": "display_data"
    }
   ],
   "source": [
    "plt.rcParams[\"figure.figsize\"] = (8,6)\n",
    "plt.plot(epoch, acc, \"b\")\n",
    "plt.xlabel(\"epoch\")\n",
    "plt.ylabel(\"accuracy\")\n",
    "plt.show()"
   ]
  },
  {
   "cell_type": "code",
   "execution_count": 139,
   "id": "3c6ce0bd",
   "metadata": {
    "lines_to_next_cell": 0
   },
   "outputs": [
    {
     "name": "stdout",
     "output_type": "stream",
     "text": [
      "Prediction_test : [[4.7751873e-06 1.6993145e-03 9.9829596e-01]\n",
      " [2.6698072e-07 4.3460052e-04 9.9956506e-01]\n",
      " [1.7681919e-05 6.0981186e-03 9.9388415e-01]] | Accuracy_test : 1.00\n"
     ]
    }
   ],
   "source": [
    "#test\n",
    "x_test = np.asarray(x_test, dtype=np.float32)\n",
    "y_test = np.asarray(y_test, dtype=np.float32)\n",
    "pre = hypothesis(x_test)\n",
    "acc_test = accuracy_fn(x_test, y_test)\n",
    "\n",
    "print(\"Prediction_test : {} | Accuracy_test : {:.2f}\".format(pre.numpy() ,acc_test))"
   ]
  },
  {
   "cell_type": "code",
   "execution_count": null,
   "id": "ab5ba231",
   "metadata": {},
   "outputs": [],
   "source": []
  },
  {
   "cell_type": "code",
   "execution_count": null,
   "id": "d061b056",
   "metadata": {
    "lines_to_next_cell": 2
   },
   "outputs": [],
   "source": []
  }
 ],
 "metadata": {
  "jupytext": {
   "formats": "ipynb,py:light"
  },
  "kernelspec": {
   "display_name": "Python 3",
   "language": "python",
   "name": "python3"
  },
  "language_info": {
   "codemirror_mode": {
    "name": "ipython",
    "version": 3
   },
   "file_extension": ".py",
   "mimetype": "text/x-python",
   "name": "python",
   "nbconvert_exporter": "python",
   "pygments_lexer": "ipython3",
   "version": "3.7.11"
  }
 },
 "nbformat": 4,
 "nbformat_minor": 5
}
