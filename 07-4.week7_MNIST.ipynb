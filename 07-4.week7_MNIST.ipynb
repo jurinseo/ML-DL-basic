{
 "cells": [
  {
   "cell_type": "code",
   "execution_count": null,
   "id": "c2573ff0",
   "metadata": {},
   "outputs": [],
   "source": [
    "import numpy as np\n",
    "import tensorflow as tf\n",
    "import matplotlib.pyplot as plt\n",
    "%matplotlib inline\n",
    "tf.random.set_seed(55)\n",
    "import pandas as pd\n",
    "import time"
   ]
  },
  {
   "cell_type": "code",
   "execution_count": 2,
   "id": "f0ef1dee",
   "metadata": {
    "lines_to_next_cell": 2
   },
   "outputs": [
    {
     "name": "stdout",
     "output_type": "stream",
     "text": [
      "(60000, 28, 28) (10000, 28, 28)\n",
      "[5 0 4 ... 5 6 8] (60000,)\n"
     ]
    }
   ],
   "source": [
    "mnist = tf.keras.datasets.mnist\n",
    "(x_train_org, y_train),(x_test_org, y_test) = mnist.load_data()\n",
    "print(x_train_org.shape, x_test_org.shape)\n",
    "print(y_train, y_train.shape)\n",
    "\n",
    "nb_classes = 10\n",
    "Y_one_hot = tf.one_hot(y_train, nb_classes)\n",
    "y_train = tf.transpose(tf.reshape(Y_one_hot, [-1, nb_classes]))\n",
    "y_test = tf.transpose(tf.reshape(tf.one_hot(y_test, nb_classes), [-1, nb_classes]))\n",
    "y_train, y_test = np.asarray(y_train), np.asarray(y_test)"
   ]
  },
  {
   "cell_type": "code",
   "execution_count": 3,
   "id": "2969877e",
   "metadata": {},
   "outputs": [
    {
     "name": "stdout",
     "output_type": "stream",
     "text": [
      "Number of training examples: 60000\n",
      "Number of testing examples: 10000\n",
      "Each image is of size: (28, 28, 3)\n",
      "x_train_orig shape: (60000, 28, 28)\n",
      "y_train shape: (10, 60000)\n",
      "x_test_orig shape: (60000, 28, 28)\n",
      "y_test shape: (10, 10000)\n"
     ]
    }
   ],
   "source": [
    "m_train = x_train_org.shape[0]\n",
    "num_px = x_train_org.shape[1]\n",
    "m_test = x_test_org.shape[0]\n",
    "\n",
    "print (\"Number of training examples: \" + str(m_train))\n",
    "print (\"Number of testing examples: \" + str(m_test))\n",
    "print (\"Each image is of size: (\" + str(num_px) + \", \" + str(num_px) + \", 3)\")\n",
    "print (\"x_train_orig shape: \" + str(x_train_org.shape))\n",
    "print (\"y_train shape: \" + str(y_train.shape))\n",
    "print (\"x_test_orig shape: \" + str(x_train_org.shape))\n",
    "print (\"y_test shape: \" + str(y_test.shape))"
   ]
  },
  {
   "cell_type": "code",
   "execution_count": 4,
   "id": "2cea81d9",
   "metadata": {},
   "outputs": [
    {
     "name": "stdout",
     "output_type": "stream",
     "text": [
      "train_x's shape: (784, 60000)\n",
      "test_x's shape: (784, 10000)\n"
     ]
    }
   ],
   "source": [
    "#Reshape the training and test examples\n",
    "x_train_flatten = x_train_org.reshape(x_train_org.shape[0], -1).T\n",
    "x_test_flatten = x_test_org.reshape(x_test_org.shape[0], -1).T\n",
    "\n",
    "x_train, x_test = x_train_flatten/255., x_test_flatten/255.\n",
    "\n",
    "print (\"train_x's shape: \" + str(x_train.shape))\n",
    "print (\"test_x's shape: \" + str(x_test.shape))"
   ]
  },
  {
   "cell_type": "code",
   "execution_count": 5,
   "id": "cad8b33a",
   "metadata": {},
   "outputs": [],
   "source": [
    "n_x = 784 # num_pix(28) * num_pix\n",
    "n_h = 7\n",
    "n_y = 10\n",
    "layers_dims = (n_x, n_h, n_y)\n",
    "learning_rate = 0.01"
   ]
  },
  {
   "cell_type": "code",
   "execution_count": null,
   "id": "36534c7d",
   "metadata": {},
   "outputs": [],
   "source": [
    "def initialize_parameters_deep(layer_dims):\n",
    "    np.random.seed(55)\n",
    "    parameters = {}\n",
    "    L = len(layer_dims)\n",
    "    \n",
    "    for l in range(1, L):\n",
    "        parameters['W' + str(l)] = np.random.randn(layer_dims[l], layer_dims[l - 1]) * 0.01\n",
    "        parameters['b' + str(l)] = np.zeros((layer_dims[l], 1))\n",
    "        \n",
    "        assert(parameters['W' + str(l)].shape == (layer_dims[l], layer_dims[l - 1]))\n",
    "        assert(parameters['b' + str(l)].shape == (layer_dims[l], 1))\n",
    "        \n",
    "    return parameters"
   ]
  },
  {
   "cell_type": "code",
   "execution_count": 7,
   "id": "2066d2df",
   "metadata": {},
   "outputs": [
    {
     "data": {
      "text/plain": [
       "dict_keys(['W1', 'b1', 'W2', 'b2', 'W3', 'b3', 'W4', 'b4'])"
      ]
     },
     "execution_count": 7,
     "metadata": {},
     "output_type": "execute_result"
    }
   ],
   "source": [
    "parameters = initialize_parameters_deep([784, 7, 4, 5, 10])\n",
    "# print(\"W1 = \" + str(parameters[\"W1\"]))\n",
    "# print(\"b1 = \" + str(parameters[\"b1\"]))\n",
    "# print(\"W2 = \" + str(parameters[\"W2\"]))\n",
    "# print(\"b2 = \" + str(parameters[\"b2\"]))\n",
    "parameters.keys()"
   ]
  },
  {
   "cell_type": "code",
   "execution_count": 8,
   "id": "28df56eb",
   "metadata": {},
   "outputs": [],
   "source": [
    "#activation functions\n",
    "def sigmoid(Z):\n",
    "    A = 1 / (1 + np.exp(-Z))\n",
    "    return A\n",
    "\n",
    "\n",
    "def relu(Z):\n",
    "    A = np.maximum(0, Z)\n",
    "    assert(A.shape == Z.shape)\n",
    "    return A\n",
    "\n",
    "\n",
    "def leakyRelu(Z):\n",
    "    A = np.maximum(0.1 * Z, Z)\n",
    "    assert(A.shape == Z.shape)\n",
    "    return A\n",
    "    \n",
    "    \n",
    "def softmax(Z):\n",
    "    t = np.exp(Z)\n",
    "    t = t / t.sum(axis=0, keepdims=True)\n",
    "    return t\n",
    "\n",
    "\n",
    "def tanh(Z):\n",
    "    A = (np.exp(Z) - np.exp(-Z)) / (np.exp(Z) + np.exp(-Z))\n",
    "    return A\n",
    "    \n",
    "    \n",
    "def swish(Z):\n",
    "    A = Z * sigmoid(Z)\n",
    "    return Z\n",
    "\n",
    "\n"
   ]
  },
  {
   "cell_type": "code",
   "execution_count": 9,
   "id": "99bc2787",
   "metadata": {},
   "outputs": [],
   "source": [
    "def linear_forward(A, W, b):\n",
    "    Z = np.dot(W, A) + b\n",
    "    return Z"
   ]
  },
  {
   "cell_type": "code",
   "execution_count": null,
   "id": "26e16eba",
   "metadata": {},
   "outputs": [],
   "source": []
  },
  {
   "cell_type": "code",
   "execution_count": 10,
   "id": "f76369fd",
   "metadata": {},
   "outputs": [],
   "source": [
    "def linear_activation_forward(A_prev, W, b, activation):\n",
    "    \n",
    "    if activation == \"sigmoid\":\n",
    "        Z = linear_forward(A_prev, W, b)\n",
    "        A = sigmoid(Z)\n",
    "       \n",
    "    elif activation == \"relu\":\n",
    "        Z = linear_forward(A_prev, W, b)\n",
    "        A = relu(Z)\n",
    "        \n",
    "    elif activation == \"leakyRelu\":\n",
    "        Z = linear_forward(A_prev, W, b)\n",
    "        A = leakyRelu(Z)\n",
    "        \n",
    "    elif activation == \"softmax\":\n",
    "        Z = linear_forward(A_prev, W, b)\n",
    "        A = softmax(Z)\n",
    "        \n",
    "    elif activation == \"tanh\":\n",
    "        Z = linear_forward(A_prev, W, b)\n",
    "        A = tanh(Z)\n",
    "    \n",
    "    elif activation == \"swish\":\n",
    "        Z = linear_forward(A_prev, W, b)\n",
    "        A = swish(Z)\n",
    "        \n",
    "#     assert(Z.shape == (W.shape[0], A.shape[1]))\n",
    "#     assert (A.shape == (W.shape[0], A_prev.shape[1]))\n",
    "    \n",
    "    cache = (A_prev, W, b, Z)\n",
    "\n",
    "    return A, cache"
   ]
  },
  {
   "cell_type": "code",
   "execution_count": 11,
   "id": "312c5fca",
   "metadata": {},
   "outputs": [],
   "source": [
    "def L_model_forward(X, parameters):\n",
    "    caches = []\n",
    "    A = X\n",
    "    L = len(parameters) // 2 \n",
    "    \n",
    "    # Hidden layers 1 to L-1 will be relu\n",
    "    for l in range(1, L):\n",
    "        A_prev = A\n",
    "        A, cache = linear_activation_forward(A_prev, parameters['W'+str(l)], parameters['b'+str(l)], activation = \"relu\")\n",
    "        caches.append(cache)\n",
    "    \n",
    "    #output layer L will be softmax\n",
    "    AL, cache = linear_activation_forward(A, parameters['W'+str(L)], parameters['b'+str(L)], activation = \"softmax\")\n",
    "    caches.append(cache)\n",
    "    \n",
    "    assert(AL.shape == (10, X.shape[1]))\n",
    "    \n",
    "    return AL, caches"
   ]
  },
  {
   "cell_type": "code",
   "execution_count": null,
   "id": "7e92a10e",
   "metadata": {},
   "outputs": [],
   "source": []
  },
  {
   "cell_type": "code",
   "execution_count": 12,
   "id": "1dfed2ec",
   "metadata": {},
   "outputs": [
    {
     "data": {
      "text/html": [
       "<div>\n",
       "<style scoped>\n",
       "    .dataframe tbody tr th:only-of-type {\n",
       "        vertical-align: middle;\n",
       "    }\n",
       "\n",
       "    .dataframe tbody tr th {\n",
       "        vertical-align: top;\n",
       "    }\n",
       "\n",
       "    .dataframe thead th {\n",
       "        text-align: right;\n",
       "    }\n",
       "</style>\n",
       "<table border=\"1\" class=\"dataframe\">\n",
       "  <thead>\n",
       "    <tr style=\"text-align: right;\">\n",
       "      <th></th>\n",
       "      <th>0</th>\n",
       "      <th>1</th>\n",
       "      <th>2</th>\n",
       "      <th>3</th>\n",
       "      <th>4</th>\n",
       "      <th>5</th>\n",
       "      <th>6</th>\n",
       "      <th>7</th>\n",
       "      <th>8</th>\n",
       "      <th>9</th>\n",
       "    </tr>\n",
       "  </thead>\n",
       "  <tbody>\n",
       "    <tr>\n",
       "      <th>0</th>\n",
       "      <td>0.10000</td>\n",
       "      <td>0.10000</td>\n",
       "      <td>0.10000</td>\n",
       "      <td>0.10000</td>\n",
       "      <td>0.10000</td>\n",
       "      <td>0.10000</td>\n",
       "      <td>0.10000</td>\n",
       "      <td>0.10000</td>\n",
       "      <td>0.10000</td>\n",
       "      <td>0.10000</td>\n",
       "    </tr>\n",
       "    <tr>\n",
       "      <th>1</th>\n",
       "      <td>0.10000</td>\n",
       "      <td>0.10000</td>\n",
       "      <td>0.10000</td>\n",
       "      <td>0.10000</td>\n",
       "      <td>0.10000</td>\n",
       "      <td>0.10000</td>\n",
       "      <td>0.10000</td>\n",
       "      <td>0.10000</td>\n",
       "      <td>0.10000</td>\n",
       "      <td>0.10000</td>\n",
       "    </tr>\n",
       "    <tr>\n",
       "      <th>2</th>\n",
       "      <td>0.10000</td>\n",
       "      <td>0.10000</td>\n",
       "      <td>0.10000</td>\n",
       "      <td>0.10000</td>\n",
       "      <td>0.10000</td>\n",
       "      <td>0.10000</td>\n",
       "      <td>0.10000</td>\n",
       "      <td>0.10000</td>\n",
       "      <td>0.10000</td>\n",
       "      <td>0.10000</td>\n",
       "    </tr>\n",
       "    <tr>\n",
       "      <th>3</th>\n",
       "      <td>0.10000</td>\n",
       "      <td>0.10000</td>\n",
       "      <td>0.10000</td>\n",
       "      <td>0.10000</td>\n",
       "      <td>0.10000</td>\n",
       "      <td>0.10000</td>\n",
       "      <td>0.10000</td>\n",
       "      <td>0.10000</td>\n",
       "      <td>0.10000</td>\n",
       "      <td>0.10000</td>\n",
       "    </tr>\n",
       "    <tr>\n",
       "      <th>4</th>\n",
       "      <td>0.10000</td>\n",
       "      <td>0.10000</td>\n",
       "      <td>0.10000</td>\n",
       "      <td>0.10000</td>\n",
       "      <td>0.10000</td>\n",
       "      <td>0.10000</td>\n",
       "      <td>0.10000</td>\n",
       "      <td>0.10000</td>\n",
       "      <td>0.10000</td>\n",
       "      <td>0.10000</td>\n",
       "    </tr>\n",
       "    <tr>\n",
       "      <th>5</th>\n",
       "      <td>0.10000</td>\n",
       "      <td>0.10000</td>\n",
       "      <td>0.10000</td>\n",
       "      <td>0.10000</td>\n",
       "      <td>0.10000</td>\n",
       "      <td>0.10000</td>\n",
       "      <td>0.10000</td>\n",
       "      <td>0.10000</td>\n",
       "      <td>0.10000</td>\n",
       "      <td>0.10000</td>\n",
       "    </tr>\n",
       "    <tr>\n",
       "      <th>6</th>\n",
       "      <td>0.10000</td>\n",
       "      <td>0.10000</td>\n",
       "      <td>0.10000</td>\n",
       "      <td>0.10000</td>\n",
       "      <td>0.10000</td>\n",
       "      <td>0.10000</td>\n",
       "      <td>0.10000</td>\n",
       "      <td>0.10000</td>\n",
       "      <td>0.10000</td>\n",
       "      <td>0.10000</td>\n",
       "    </tr>\n",
       "    <tr>\n",
       "      <th>7</th>\n",
       "      <td>0.10000</td>\n",
       "      <td>0.10000</td>\n",
       "      <td>0.10000</td>\n",
       "      <td>0.10000</td>\n",
       "      <td>0.10000</td>\n",
       "      <td>0.10000</td>\n",
       "      <td>0.10000</td>\n",
       "      <td>0.10000</td>\n",
       "      <td>0.10000</td>\n",
       "      <td>0.10000</td>\n",
       "    </tr>\n",
       "    <tr>\n",
       "      <th>8</th>\n",
       "      <td>0.10000</td>\n",
       "      <td>0.10000</td>\n",
       "      <td>0.10000</td>\n",
       "      <td>0.10000</td>\n",
       "      <td>0.10000</td>\n",
       "      <td>0.10000</td>\n",
       "      <td>0.10000</td>\n",
       "      <td>0.10000</td>\n",
       "      <td>0.10000</td>\n",
       "      <td>0.10000</td>\n",
       "    </tr>\n",
       "    <tr>\n",
       "      <th>9</th>\n",
       "      <td>0.10000</td>\n",
       "      <td>0.10000</td>\n",
       "      <td>0.10000</td>\n",
       "      <td>0.10000</td>\n",
       "      <td>0.10000</td>\n",
       "      <td>0.10000</td>\n",
       "      <td>0.10000</td>\n",
       "      <td>0.10000</td>\n",
       "      <td>0.10000</td>\n",
       "      <td>0.10000</td>\n",
       "    </tr>\n",
       "  </tbody>\n",
       "</table>\n",
       "</div>"
      ],
      "text/plain": [
       "        0       1       2       3       4       5       6       7       8  \\\n",
       "0 0.10000 0.10000 0.10000 0.10000 0.10000 0.10000 0.10000 0.10000 0.10000   \n",
       "1 0.10000 0.10000 0.10000 0.10000 0.10000 0.10000 0.10000 0.10000 0.10000   \n",
       "2 0.10000 0.10000 0.10000 0.10000 0.10000 0.10000 0.10000 0.10000 0.10000   \n",
       "3 0.10000 0.10000 0.10000 0.10000 0.10000 0.10000 0.10000 0.10000 0.10000   \n",
       "4 0.10000 0.10000 0.10000 0.10000 0.10000 0.10000 0.10000 0.10000 0.10000   \n",
       "5 0.10000 0.10000 0.10000 0.10000 0.10000 0.10000 0.10000 0.10000 0.10000   \n",
       "6 0.10000 0.10000 0.10000 0.10000 0.10000 0.10000 0.10000 0.10000 0.10000   \n",
       "7 0.10000 0.10000 0.10000 0.10000 0.10000 0.10000 0.10000 0.10000 0.10000   \n",
       "8 0.10000 0.10000 0.10000 0.10000 0.10000 0.10000 0.10000 0.10000 0.10000   \n",
       "9 0.10000 0.10000 0.10000 0.10000 0.10000 0.10000 0.10000 0.10000 0.10000   \n",
       "\n",
       "        9  \n",
       "0 0.10000  \n",
       "1 0.10000  \n",
       "2 0.10000  \n",
       "3 0.10000  \n",
       "4 0.10000  \n",
       "5 0.10000  \n",
       "6 0.10000  \n",
       "7 0.10000  \n",
       "8 0.10000  \n",
       "9 0.10000  "
      ]
     },
     "execution_count": 12,
     "metadata": {},
     "output_type": "execute_result"
    }
   ],
   "source": [
    "AL, caches = L_model_forward(x_train, parameters)\n",
    "pd.options.display.float_format = '{:.5f}'.format\n",
    "pd.DataFrame(AL[:, 0:10])"
   ]
  },
  {
   "cell_type": "code",
   "execution_count": 13,
   "id": "811d7a85",
   "metadata": {},
   "outputs": [],
   "source": [
    "def compute_cost(AL, Y):\n",
    "    m = Y.shape[1]\n",
    "    cost = -1/m * np.sum(np.multiply(Y, np.log(AL)))    \n",
    "    cost = np.squeeze(cost)\n",
    "    assert(cost.shape == ())\n",
    "    \n",
    "    return cost"
   ]
  },
  {
   "cell_type": "code",
   "execution_count": 14,
   "id": "a8cd4c48",
   "metadata": {},
   "outputs": [
    {
     "data": {
      "text/plain": [
       "2.3025850823907708"
      ]
     },
     "execution_count": 14,
     "metadata": {},
     "output_type": "execute_result"
    }
   ],
   "source": [
    "compute_cost(AL, y_train)"
   ]
  },
  {
   "cell_type": "code",
   "execution_count": 15,
   "id": "892dcb93",
   "metadata": {},
   "outputs": [],
   "source": [
    "def linear_backward(dZ, A_prev, W, b):\n",
    "    m = A_prev.shape[1]\n",
    "\n",
    "    dW = 1/m * np.dot(dZ, A_prev.T)\n",
    "    db = 1/m * np.sum(dZ, axis=1, keepdims=True)\n",
    "    dA_prev = np.dot(W.T, dZ)\n",
    "    \n",
    "    assert (dA_prev.shape == A_prev.shape)\n",
    "    assert (dW.shape == W.shape)\n",
    "    assert (db.shape == b.shape)\n",
    "    \n",
    "    return dA_prev, dW, db"
   ]
  },
  {
   "cell_type": "code",
   "execution_count": 16,
   "id": "4dcc3694",
   "metadata": {},
   "outputs": [],
   "source": [
    "def relu_backward(dA, cache):\n",
    "    A_prev, W, b, Z = cache\n",
    "    \n",
    "    # Compute dZ\n",
    "    dZ = np.array(dA, copy=True) # convert dz to a numpy array\n",
    "    dZ[Z <= 0] = 0\n",
    "    assert (dZ.shape == Z.shape)\n",
    "    \n",
    "    # Compute dA_prev, dW, db\n",
    "    dA_prev, dW, db = linear_backward(dZ, A_prev, W, b)\n",
    "    return dA_prev, dW, db\n",
    "\n",
    "def softmax_backward(AL, Y, cache):\n",
    "    A_prev, W, b, Z = cache\n",
    "    \n",
    "    # Compute dZ\n",
    "    dZ = AL - Y\n",
    "    \n",
    "    # Compute dA_prev, dW, db\n",
    "    dA_prev, dW, db = linear_backward(dZ, A_prev, W, b)\n",
    "    return dA_prev, dW, db"
   ]
  },
  {
   "cell_type": "code",
   "execution_count": 17,
   "id": "9eeccd4a",
   "metadata": {},
   "outputs": [],
   "source": [
    "def L_model_backward(AL, Y, caches):\n",
    "    grads = {}\n",
    "    L = len(caches) # the number of layers\n",
    "    m = AL.shape[1]\n",
    "    #Y = Y.reshape(AL.shape) # after this line, Y is the same shape as AL\n",
    "    \n",
    "    # Backpropagation at layer L-1\n",
    "    # The activation is softmax at layer L-1\n",
    "    current_cache = caches[L-1]\n",
    "    grads[\"dA\" + str(L-1)], grads[\"dW\" + str(L)], grads[\"db\" + str(L)] = softmax_backward(AL, Y, current_cache)\n",
    "    \n",
    "    # Backpropagation from layers L-2 to 1\n",
    "    # The activations are relu at all these layers\n",
    "    for l in reversed(range(L-1)):\n",
    "        current_cache = caches[l]\n",
    "        dA_prev_temp, dW_temp, db_temp = relu_backward(grads[\"dA\" + str(l+1)], current_cache)\n",
    "        grads[\"dA\" + str(l)] = dA_prev_temp\n",
    "        grads[\"dW\" + str(l + 1)] = dW_temp\n",
    "        grads[\"db\" + str(l + 1)] = db_temp\n",
    "\n",
    "    return grads"
   ]
  },
  {
   "cell_type": "code",
   "execution_count": 18,
   "id": "8f42bbc2",
   "metadata": {},
   "outputs": [
    {
     "data": {
      "text/plain": [
       "dict_keys(['dA3', 'dW4', 'db4', 'dA2', 'dW3', 'db3', 'dA1', 'dW2', 'db2', 'dA0', 'dW1', 'db1'])"
      ]
     },
     "execution_count": 18,
     "metadata": {},
     "output_type": "execute_result"
    }
   ],
   "source": [
    "grads = L_model_backward(AL, y_train, caches)\n",
    "grads.keys()"
   ]
  },
  {
   "cell_type": "code",
   "execution_count": 19,
   "id": "f830e0cf",
   "metadata": {},
   "outputs": [],
   "source": [
    "def update_parameters(parameters, grads, learning_rate):\n",
    "    L = len(parameters) // 2 # number of layers in the neural network\n",
    "    for l in range(L):\n",
    "        parameters[\"W\" + str(l+1)] = parameters[\"W\" + str(l+1)] - learning_rate * grads[\"dW\" + str(l+1)]\n",
    "        parameters[\"b\" + str(l+1)] = parameters[\"b\" + str(l+1)] - learning_rate * grads[\"db\" + str(l+1)]\n",
    "    \n",
    "    return parameters"
   ]
  },
  {
   "cell_type": "code",
   "execution_count": 20,
   "id": "639d1de3",
   "metadata": {},
   "outputs": [
    {
     "data": {
      "text/html": [
       "<div>\n",
       "<style scoped>\n",
       "    .dataframe tbody tr th:only-of-type {\n",
       "        vertical-align: middle;\n",
       "    }\n",
       "\n",
       "    .dataframe tbody tr th {\n",
       "        vertical-align: top;\n",
       "    }\n",
       "\n",
       "    .dataframe thead th {\n",
       "        text-align: right;\n",
       "    }\n",
       "</style>\n",
       "<table border=\"1\" class=\"dataframe\">\n",
       "  <thead>\n",
       "    <tr style=\"text-align: right;\">\n",
       "      <th></th>\n",
       "      <th>0</th>\n",
       "      <th>1</th>\n",
       "      <th>2</th>\n",
       "      <th>3</th>\n",
       "      <th>4</th>\n",
       "    </tr>\n",
       "  </thead>\n",
       "  <tbody>\n",
       "    <tr>\n",
       "      <th>0</th>\n",
       "      <td>0.10000</td>\n",
       "      <td>0.10000</td>\n",
       "      <td>0.10000</td>\n",
       "      <td>0.10000</td>\n",
       "      <td>0.10000</td>\n",
       "    </tr>\n",
       "    <tr>\n",
       "      <th>1</th>\n",
       "      <td>0.10001</td>\n",
       "      <td>0.10001</td>\n",
       "      <td>0.10001</td>\n",
       "      <td>0.10001</td>\n",
       "      <td>0.10001</td>\n",
       "    </tr>\n",
       "    <tr>\n",
       "      <th>2</th>\n",
       "      <td>0.10000</td>\n",
       "      <td>0.10000</td>\n",
       "      <td>0.10000</td>\n",
       "      <td>0.10000</td>\n",
       "      <td>0.10000</td>\n",
       "    </tr>\n",
       "    <tr>\n",
       "      <th>3</th>\n",
       "      <td>0.10000</td>\n",
       "      <td>0.10000</td>\n",
       "      <td>0.10000</td>\n",
       "      <td>0.10000</td>\n",
       "      <td>0.10000</td>\n",
       "    </tr>\n",
       "    <tr>\n",
       "      <th>4</th>\n",
       "      <td>0.10000</td>\n",
       "      <td>0.10000</td>\n",
       "      <td>0.10000</td>\n",
       "      <td>0.10000</td>\n",
       "      <td>0.10000</td>\n",
       "    </tr>\n",
       "    <tr>\n",
       "      <th>5</th>\n",
       "      <td>0.09999</td>\n",
       "      <td>0.09999</td>\n",
       "      <td>0.09999</td>\n",
       "      <td>0.09999</td>\n",
       "      <td>0.09999</td>\n",
       "    </tr>\n",
       "    <tr>\n",
       "      <th>6</th>\n",
       "      <td>0.10000</td>\n",
       "      <td>0.10000</td>\n",
       "      <td>0.10000</td>\n",
       "      <td>0.10000</td>\n",
       "      <td>0.10000</td>\n",
       "    </tr>\n",
       "    <tr>\n",
       "      <th>7</th>\n",
       "      <td>0.10000</td>\n",
       "      <td>0.10000</td>\n",
       "      <td>0.10000</td>\n",
       "      <td>0.10000</td>\n",
       "      <td>0.10000</td>\n",
       "    </tr>\n",
       "    <tr>\n",
       "      <th>8</th>\n",
       "      <td>0.10000</td>\n",
       "      <td>0.10000</td>\n",
       "      <td>0.10000</td>\n",
       "      <td>0.10000</td>\n",
       "      <td>0.10000</td>\n",
       "    </tr>\n",
       "    <tr>\n",
       "      <th>9</th>\n",
       "      <td>0.10000</td>\n",
       "      <td>0.10000</td>\n",
       "      <td>0.10000</td>\n",
       "      <td>0.10000</td>\n",
       "      <td>0.10000</td>\n",
       "    </tr>\n",
       "  </tbody>\n",
       "</table>\n",
       "</div>"
      ],
      "text/plain": [
       "        0       1       2       3       4\n",
       "0 0.10000 0.10000 0.10000 0.10000 0.10000\n",
       "1 0.10001 0.10001 0.10001 0.10001 0.10001\n",
       "2 0.10000 0.10000 0.10000 0.10000 0.10000\n",
       "3 0.10000 0.10000 0.10000 0.10000 0.10000\n",
       "4 0.10000 0.10000 0.10000 0.10000 0.10000\n",
       "5 0.09999 0.09999 0.09999 0.09999 0.09999\n",
       "6 0.10000 0.10000 0.10000 0.10000 0.10000\n",
       "7 0.10000 0.10000 0.10000 0.10000 0.10000\n",
       "8 0.10000 0.10000 0.10000 0.10000 0.10000\n",
       "9 0.10000 0.10000 0.10000 0.10000 0.10000"
      ]
     },
     "execution_count": 20,
     "metadata": {},
     "output_type": "execute_result"
    }
   ],
   "source": [
    "parameters = update_parameters(parameters, grads, learning_rate=0.0075)\n",
    "AL, caches = L_model_forward(x_train, parameters)\n",
    "pd.DataFrame(AL[:, 0:5])"
   ]
  },
  {
   "cell_type": "code",
   "execution_count": null,
   "id": "9cfb6933",
   "metadata": {},
   "outputs": [],
   "source": [
    "def L_layer_model(X, Y, layers_dims, learning_rate = 0.0075, num_iterations = 3000, print_cost=False):\n",
    "    np.random.seed(55)\n",
    "    costs = []      \n",
    "    \n",
    "    # 1. initialize parameters\n",
    "    parameters = initialize_parameters_deep(layers_dims)\n",
    "    \n",
    "    for i in range(0, num_iterations):\n",
    "\n",
    "        # 2. Forward Propagation\n",
    "        AL, caches = L_model_forward(X, parameters)\n",
    "        \n",
    "        # 3. Compute cost\n",
    "        cost = compute_cost(AL, Y)\n",
    "        \n",
    "        # 4. Backward Propagation\n",
    "        grads = L_model_backward(AL, Y, caches)\n",
    "        \n",
    "        # 5. Update parameters\n",
    "        parameters = update_parameters(parameters, grads, learning_rate)\n",
    "                \n",
    "        # Print the cost every 100 training example\n",
    "        if print_cost and i % 100 == 0:\n",
    "            print (\"Cost after iteration %i: %f\" %(i, cost))\n",
    "        if print_cost and i % 10 == 0:\n",
    "            costs.append(cost)\n",
    "            \n",
    "    # plot the cost\n",
    "    plt.plot(np.squeeze(costs))\n",
    "    plt.ylabel('cost')\n",
    "    plt.xlabel('iterations (per tens)')\n",
    "    plt.title(\"Learning rate =\" + str(learning_rate))\n",
    "    plt.show()\n",
    "    \n",
    "    return parameters"
   ]
  },
  {
   "cell_type": "code",
   "execution_count": null,
   "id": "f3ba78f6",
   "metadata": {},
   "outputs": [],
   "source": []
  },
  {
   "cell_type": "code",
   "execution_count": 22,
   "id": "9a208525",
   "metadata": {},
   "outputs": [],
   "source": [
    "def predict(X, parameters):\n",
    "    # Forward propagation\n",
    "    probabilities, caches = L_model_forward(X, parameters)\n",
    "    \n",
    "    # Calculate Predictions (the highest probability for a given example is coded as 1, otherwise 0)\n",
    "    predictions = (probabilities == np.amax(probabilities, axis=0, keepdims=True))\n",
    "    predictions = predictions.astype(float)\n",
    "\n",
    "    return predictions, probabilities\n",
    "\n",
    "def evaluate_prediction(predictions, Y):\n",
    "    m = Y.shape[1]\n",
    "    predictions_class = predictions.argmax(axis=0).reshape(1, m)\n",
    "    Y_class = Y.argmax(axis=0).reshape(1, m)\n",
    "    \n",
    "    return np.sum((predictions_class == Y_class) / (m))"
   ]
  },
  {
   "cell_type": "code",
   "execution_count": 25,
   "id": "3271171b",
   "metadata": {},
   "outputs": [
    {
     "name": "stdout",
     "output_type": "stream",
     "text": [
      "Cost after iteration 0: 2.302628\n",
      "Cost after iteration 100: 2.291210\n",
      "Cost after iteration 200: 2.072176\n",
      "Cost after iteration 300: 1.513030\n",
      "Cost after iteration 400: 1.220055\n"
     ]
    },
    {
     "data": {
      "image/png": "[encoded data removed]",
      "text/plain": [
       "<Figure size 432x288 with 1 Axes>"
      ]
     },
     "metadata": {
      "needs_background": "light"
     },
     "output_type": "display_data"
    },
    {
     "name": "stdout",
     "output_type": "stream",
     "text": [
      "Train set error is: 0.6861333333333335\n",
      "Test set error is: 0.6961000000000002\n"
     ]
    }
   ],
   "source": [
    "layers_dims = [784, 5, 10]\n",
    "parameters = L_layer_model(x_train, y_train, layers_dims, learning_rate = 0.05, num_iterations = 500, print_cost=True)\n",
    "pred_train, probs_train = predict(x_train, parameters)\n",
    "print(\"Train set error is: \" + str(evaluate_prediction(pred_train, y_train)))\n",
    "pred_test, probs_test = predict(x_test, parameters)\n",
    "print(\"Test set error is: \" + str(evaluate_prediction(pred_test, y_test)))"
   ]
  },
  {
   "cell_type": "code",
   "execution_count": 23,
   "id": "afe80954",
   "metadata": {},
   "outputs": [
    {
     "name": "stdout",
     "output_type": "stream",
     "text": [
      "Cost after iteration 0: 2.302586\n",
      "Cost after iteration 100: 2.302324\n",
      "Cost after iteration 200: 2.302110\n",
      "Cost after iteration 300: 2.301935\n",
      "Cost after iteration 400: 2.301792\n"
     ]
    },
    {
     "data": {
      "image/png": "[encoded data removed]",
      "text/plain": [
       "<Figure size 432x288 with 1 Axes>"
      ]
     },
     "metadata": {
      "needs_background": "light"
     },
     "output_type": "display_data"
    },
    {
     "name": "stdout",
     "output_type": "stream",
     "text": [
      "Train set error is: 0.11236666666666668\n",
      "Test set error is: 0.1135\n"
     ]
    }
   ],
   "source": [
    "layers_dims = [784, 10, 3, 10]\n",
    "parameters = L_layer_model(x_train, y_train, layers_dims, learning_rate = 0.01, num_iterations = 500, print_cost=True)\n",
    "pred_train, probs_train = predict(x_train, parameters)\n",
    "print(\"Train set error is: \" + str(evaluate_prediction(pred_train, y_train)))\n",
    "pred_test, probs_test = predict(x_test, parameters)\n",
    "print(\"Test set error is: \" + str(evaluate_prediction(pred_test, y_test)))"
   ]
  },
  {
   "cell_type": "code",
   "execution_count": 26,
   "id": "b5188222",
   "metadata": {},
   "outputs": [
    {
     "name": "stdout",
     "output_type": "stream",
     "text": [
      "Cost after iteration 0: 2.302586\n",
      "Cost after iteration 100: 2.302324\n",
      "Cost after iteration 200: 2.302110\n",
      "Cost after iteration 300: 2.301935\n",
      "Cost after iteration 400: 2.301792\n"
     ]
    },
    {
     "data": {
      "image/png": "[encoded data removed]",
      "text/plain": [
       "<Figure size 432x288 with 1 Axes>"
      ]
     },
     "metadata": {
      "needs_background": "light"
     },
     "output_type": "display_data"
    },
    {
     "name": "stdout",
     "output_type": "stream",
     "text": [
      "Train set error is: 0.11236666666666668\n",
      "Test set error is: 0.1135\n"
     ]
    }
   ],
   "source": [
    "layers_dims = [784, 10, 3, 10]\n",
    "parameters = L_layer_model(x_train, y_train, layers_dims, learning_rate = 0.01, num_iterations = 500, print_cost=True)\n",
    "pred_train, probs_train = predict(x_train, parameters)\n",
    "print(\"Train set error is: \" + str(evaluate_prediction(pred_train, y_train)))\n",
    "pred_test, probs_test = predict(x_test, parameters)\n",
    "print(\"Test set error is: \" + str(evaluate_prediction(pred_test, y_test)))"
   ]
  },
  {
   "cell_type": "code",
   "execution_count": 28,
   "id": "f30d3a57",
   "metadata": {},
   "outputs": [
    {
     "name": "stdout",
     "output_type": "stream",
     "text": [
      "Cost after iteration 0: 2.302507\n",
      "Cost after iteration 100: 2.301818\n",
      "Cost after iteration 200: 2.300780\n",
      "Cost after iteration 300: 2.298799\n",
      "Cost after iteration 400: 2.294636\n"
     ]
    },
    {
     "data": {
      "image/png": "[encoded data removed]",
      "text/plain": [
       "<Figure size 432x288 with 1 Axes>"
      ]
     },
     "metadata": {
      "needs_background": "light"
     },
     "output_type": "display_data"
    },
    {
     "name": "stdout",
     "output_type": "stream",
     "text": [
      "Train set error is: 0.31853333333333345\n",
      "Test set error is: 0.31560000000000005\n"
     ]
    }
   ],
   "source": [
    "layers_dims = [784, 2, 10]\n",
    "parameters = L_layer_model(x_train, y_train, layers_dims, learning_rate = 0.01, num_iterations = 500, print_cost=True)\n",
    "pred_train, probs_train = predict(x_train, parameters)\n",
    "print(\"Train set error is: \" + str(evaluate_prediction(pred_train, y_train)))\n",
    "pred_test, probs_test = predict(x_test, parameters)\n",
    "print(\"Test set error is: \" + str(evaluate_prediction(pred_test, y_test)))"
   ]
  },
  {
   "cell_type": "code",
   "execution_count": null,
   "id": "3c679f9e",
   "metadata": {},
   "outputs": [],
   "source": []
  }
 ],
 "metadata": {
  "jupytext": {
   "formats": "ipynb,py:light"
  },
  "kernelspec": {
   "display_name": "Python 3",
   "language": "python",
   "name": "python3"
  },
  "language_info": {
   "codemirror_mode": {
    "name": "ipython",
    "version": 3
   },
   "file_extension": ".py",
   "mimetype": "text/x-python",
   "name": "python",
   "nbconvert_exporter": "python",
   "pygments_lexer": "ipython3",
   "version": "3.7.11"
  }
 },
 "nbformat": 4,
 "nbformat_minor": 5
}
